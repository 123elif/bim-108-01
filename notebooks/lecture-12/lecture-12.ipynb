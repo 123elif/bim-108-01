{
 "cells": [
  {
   "cell_type": "markdown",
   "metadata": {
    "deletable": false
   },
   "source": [
    "# Ontologien mit RDF Schema"
   ]
  },
  {
   "cell_type": "markdown",
   "metadata": {
    "deletable": false
   },
   "source": [
    "In dieser Übung benutzen wir die in der Vorlesung vorgestellte Ontologie (Datei `solar-system-planet.ttl`) über Planeten des Sonnensystems und erweitern diese mit Protégé. Zudem verwenden wir die Ontologie in SPARQL Abfragen. Zuerst laden wir benötigte Python Module (insb. wenn Sie Azure verwenden) und Hilfsfunktionen."
   ]
  },
  {
   "cell_type": "code",
   "execution_count": null,
   "metadata": {
    "deletable": false
   },
   "outputs": [],
   "source": [
    "!pip install rdflib"
   ]
  },
  {
   "cell_type": "code",
   "execution_count": null,
   "metadata": {
    "deletable": false
   },
   "outputs": [],
   "source": [
    "import pandas as pd\n",
    "from io import BytesIO\n",
    "from io import StringIO\n",
    "from rdflib import Graph\n",
    "from rdflib.plugins.sparql.results.csvresults import CSVResultSerializer\n",
    "from IPython.display import display\n",
    "\n",
    "pd.set_option('display.max_colwidth', 200)\n",
    "\n",
    "g1 = Graph()\n",
    "r = g1.parse('solar-system-planet.ttl', format='turtle')\n",
    "\n",
    "def query(g, q):\n",
    "    serializer = CSVResultSerializer(g.query(q))\n",
    "    output = BytesIO()\n",
    "    serializer.serialize(output)\n",
    "    display(pd.read_csv(StringIO(output.getvalue().decode())))"
   ]
  },
  {
   "cell_type": "markdown",
   "metadata": {
    "deletable": false
   },
   "source": [
    "Schauen wir mal welche Planeten (Instanzen) unsere Ontologie bereits kennt."
   ]
  },
  {
   "cell_type": "code",
   "execution_count": null,
   "metadata": {
    "deletable": false
   },
   "outputs": [],
   "source": [
    "query(g1, \"\"\"\n",
    "SELECT ?planet \n",
    "WHERE {\n",
    "    ?p rdf:type [ rdfs:label \"Terrestrial Planet\"@en ] . \n",
    "    ?p rdfs:label ?planet\n",
    "}\n",
    "\"\"\")"
   ]
  },
  {
   "cell_type": "markdown",
   "metadata": {
    "deletable": false
   },
   "source": [
    "Die Klasse \"Terrestrial Planet\" ist eine Unterklasse welcher Klasse? Schauen wir mal nach."
   ]
  },
  {
   "cell_type": "code",
   "execution_count": null,
   "metadata": {
    "deletable": false
   },
   "outputs": [],
   "source": [
    "query(g1, \"\"\"\n",
    "SELECT ?class \n",
    "WHERE {\n",
    "    ?c rdfs:label \"Terrestrial Planet\"@en . \n",
    "    ?c rdfs:subClassOf [ rdfs:label ?class ]\n",
    "}\n",
    "\"\"\")"
   ]
  },
  {
   "cell_type": "markdown",
   "metadata": {
    "deletable": false
   },
   "source": [
    "Schauen wir uns nun noch an, was die Ontologie über den Planeten Erde kennt."
   ]
  },
  {
   "cell_type": "code",
   "execution_count": null,
   "metadata": {
    "deletable": false
   },
   "outputs": [],
   "source": [
    "query(g1, \"\"\"\n",
    "SELECT ?property ?object\n",
    "WHERE {\n",
    "    ?e rdfs:label \"Earth\"@en . \n",
    "    ?p rdfs:label ?property .\n",
    "    { ?e ?p ?object }\n",
    "    UNION\n",
    "    { ?e ?p [ rdfs:label ?object ] }\n",
    "    FILTER (isLiteral(?object))\n",
    "}\n",
    "\"\"\")"
   ]
  },
  {
   "cell_type": "markdown",
   "metadata": {
    "deletable": false
   },
   "source": [
    "Gehen Sie nun auf [http://webprotege.stanford.edu](http://webprotege.stanford.edu) und melden Sie sich an. Erstellen Sie nach erfolgreichem Login ein neues Projekt. Nennen Sie das Projekt `solar-system-planet-extended` und laden Sie die `solar-system-planet.ttl` Datei im Verzeichnis `notebooks/lecture-12` rauf. Die Maske sollte wie folgt aussehen.\n",
    "\n",
    "![](webprotege-create-project.png)\n"
   ]
  },
  {
   "cell_type": "markdown",
   "metadata": {
    "deletable": false
   },
   "source": [
    "Wählen Sie dann das neu erstellte Projekt. Schauen Sie sich die Ontologie etwas an. Klappen Sie die Klasse `Solar System Planet` auf. Welche Unterklassen gibt es? Wählen Sie dann das Tab `Properties` und schauen Sie sich die object property `has satellite` genauer an. Was sind die `Domain` und `Range`?"
   ]
  },
  {
   "cell_type": "code",
   "execution_count": null,
   "metadata": {
    "deletable": false
   },
   "outputs": [],
   "source": [
    "# Welche Unterklassen von Solar System Planet gibt es? Antwort: \n",
    "\n",
    "# Was ist die Domain der has satellite property? Antwort: \n",
    "\n",
    "# Was ist die Range der has satellite property? Antwort: "
   ]
  },
  {
   "cell_type": "markdown",
   "metadata": {
    "deletable": false
   },
   "source": [
    "Im Tab `Properties` wählen Sie nun die data properties und schauen Sie sich die `has physical characteristic` property an."
   ]
  },
  {
   "cell_type": "code",
   "execution_count": null,
   "metadata": {
    "deletable": false
   },
   "outputs": [],
   "source": [
    "# Welche sub properties hat die has physical characteristic? Antwort: "
   ]
  },
  {
   "cell_type": "markdown",
   "metadata": {
    "deletable": false
   },
   "source": [
    "Wählen Sie nun das Tab `Individuals` und die Klasse `Terrestrial Planet`. Wie erwartet, sind hier die Instanzen `Earth` und `Mars` zu finden. Wählen Sie nun `Earth` und schauen Sie sich die Relationen (`Relationships`) an. Auch hier erwarten wir anhand der SPARQL Resultate oben Information über den Satellit und Radius.\n",
    "\n",
    "Erweitern Sie die Ontologie nun mit den folgendem Wissen. Setzen Sie bei neuen Relationen und Instanzen das Language Tag des labels jeweils auf \"en\" für Englisch. Verwenden Sie Werte (Daten) aus Wikipedia:\n",
    "\n",
    "* Fügen Sie \"has surface area\" als weitere (physical characteristic) data property hinzu\n",
    "* Fügen Sie Venus als terrestrischer Planet hinzu\n",
    "* Fügen Sie die Fläche von Venus, Mars und Erde hinzu\n",
    "* Fügen Sie die beiden Mars Satelliten hinzu\n",
    "* Fügen Sie Jupiter und Saturn als Gas Giganten hinzu\n",
    "\n",
    "Sind Sie zufrieden, schliessen Sie das Projekt und auf der Hauptseite wählen Sie dann für das Projekt im Menu ganz rechts `Download`. Wählen Sie `Turtle` als Format. Sie erhalten eine ZIP Datei. Diese enthält die Datei `root-ontology.ttl` in einem Unterverzeichnis. Nennen Sie diese Datei auf `solar-system-planet-extended.ttl` um und laden Sie die Datei dann in Ihr lecture-12 Verzeichnis. \n",
    "\n",
    "Nun schauen wir, ob sich bei der erweiterten Ontologie was geändert hat und zwar so wie Sie es erwarten."
   ]
  },
  {
   "cell_type": "code",
   "execution_count": null,
   "metadata": {
    "deletable": false
   },
   "outputs": [],
   "source": [
    "g2 = Graph()\n",
    "r = g2.parse('solar-system-planet-extended.ttl', format='turtle')"
   ]
  },
  {
   "cell_type": "code",
   "execution_count": null,
   "metadata": {
    "deletable": false
   },
   "outputs": [],
   "source": [
    "query(g2, \"\"\"\n",
    "SELECT ?planet \n",
    "WHERE {\n",
    "    ?p rdf:type [ rdfs:label \"Terrestrial Planet\"@en ] . \n",
    "    ?p rdfs:label ?planet\n",
    "}\n",
    "\"\"\")"
   ]
  },
  {
   "cell_type": "code",
   "execution_count": null,
   "metadata": {
    "deletable": false
   },
   "outputs": [],
   "source": [
    "query(g2, \"\"\"\n",
    "SELECT ?planet ?property ?object\n",
    "WHERE {\n",
    "    ?e rdfs:label ?planet . \n",
    "    ?p rdfs:label ?property .\n",
    "    { ?e ?p ?object }\n",
    "    UNION\n",
    "    { ?e ?p [ rdfs:label ?object ] }\n",
    "    FILTER (isLiteral(?object))\n",
    "}\n",
    "ORDER BY (?planet)\n",
    "\"\"\")"
   ]
  }
 ],
 "metadata": {
  "kernelspec": {
   "display_name": "Python 3",
   "language": "python",
   "name": "python3"
  },
  "language_info": {
   "codemirror_mode": {
    "name": "ipython",
    "version": 3
   },
   "file_extension": ".py",
   "mimetype": "text/x-python",
   "name": "python",
   "nbconvert_exporter": "python",
   "pygments_lexer": "ipython3",
   "version": "3.6.4"
  }
 },
 "nbformat": 4,
 "nbformat_minor": 2
}
