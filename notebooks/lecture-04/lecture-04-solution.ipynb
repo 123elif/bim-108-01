{
 "cells": [
  {
   "cell_type": "markdown",
   "metadata": {
    "deletable": false
   },
   "source": [
    "# Schema: Document Type Definition (DTD)"
   ]
  },
  {
   "cell_type": "markdown",
   "metadata": {
    "deletable": false
   },
   "source": [
    "Die Document Type Definition ermöglicht die Spezifikation von XML Dokumente und somit das Validieren solcher Dokumente. Man kann mit der DTD Schemas für XML Dokumente entwickeln. So kann man sich unter mehreren Parteien auf ein gemeinsames Vokabular einigen, und die Interoperabilität zwischen entwickelten Systeme ermöglichen oder erhöhen. In dieser Übung schauen wir uns die DTD etwas genauer in der Praxis an. Führen Sie zuerst den folgenden Codeblock aus und machen Sie dann der Reihe nach weiter. Beantworten Sie die Fragen (falls zutreffend). Zum Schluss, schreiben Sie eine eigene DTD und ein exemplarisches XML Dokument dafür. Stellen Sie sicher, dass das XML Dokument wohlgeformt und gültig ist."
   ]
  },
  {
   "cell_type": "code",
   "execution_count": 1,
   "metadata": {
    "deletable": false
   },
   "outputs": [],
   "source": [
    "import io\n",
    "from lxml import etree as et\n",
    "\n",
    "def isvalid(dtd, doc):\n",
    "    print(et.DTD(io.StringIO(dtd)).validate(et.fromstring(doc)))\n",
    "    \n",
    "def exp(doc, path):\n",
    "    print(et.fromstring(doc).xpath(path))"
   ]
  },
  {
   "cell_type": "markdown",
   "metadata": {
    "deletable": false
   },
   "source": [
    "## Elemente"
   ]
  },
  {
   "cell_type": "code",
   "execution_count": 2,
   "metadata": {
    "deletable": false
   },
   "outputs": [
    {
     "name": "stdout",
     "output_type": "stream",
     "text": [
      "True\n"
     ]
    }
   ],
   "source": [
    "isvalid('<!ELEMENT discography EMPTY>', '<discography/>')"
   ]
  },
  {
   "cell_type": "code",
   "execution_count": 3,
   "metadata": {
    "deletable": false
   },
   "outputs": [
    {
     "name": "stdout",
     "output_type": "stream",
     "text": [
      "False\n",
      "True\n",
      "False\n"
     ]
    }
   ],
   "source": [
    "dtd = \"\"\"\n",
    "<!ELEMENT discography (albums)>\n",
    "<!ELEMENT albums EMPTY>\n",
    "\"\"\"\n",
    "\n",
    "isvalid(dtd, \"\"\"\n",
    "<discography/>\n",
    "\"\"\")\n",
    "\n",
    "isvalid(dtd, \"\"\"\n",
    "<discography>\n",
    "  <albums/>\n",
    "</discography>\n",
    "\"\"\")\n",
    "\n",
    "# Warum ist dieses XML Dokument nicht gültig? Antwort: Das Dokument enthält zwei albums leere Elemente, das Schema spezifiziert nur eins.\n",
    "isvalid(dtd, \"\"\"\n",
    "<discography>\n",
    "  <albums/>\n",
    "  <albums/>\n",
    "</discography>\n",
    "\"\"\")"
   ]
  },
  {
   "cell_type": "code",
   "execution_count": 4,
   "metadata": {
    "deletable": false
   },
   "outputs": [
    {
     "name": "stdout",
     "output_type": "stream",
     "text": [
      "True\n",
      "True\n",
      "True\n"
     ]
    }
   ],
   "source": [
    "dtd = \"\"\"\n",
    "<!ELEMENT discography (albums*)>\n",
    "<!ELEMENT albums EMPTY>\n",
    "\"\"\"\n",
    "\n",
    "isvalid(dtd, \"\"\"\n",
    "<discography/>\n",
    "\"\"\")\n",
    "\n",
    "isvalid(dtd, \"\"\"\n",
    "<discography>\n",
    "  <albums/>\n",
    "</discography>\n",
    "\"\"\")\n",
    "\n",
    "# Warum ist dieses XML Dokument gültig? Antwort: Das Schema spezifiziert, dass kein, ein, oder mehrere leere Elemente albums erlaubt sind.\n",
    "isvalid(dtd, \"\"\"\n",
    "<discography>\n",
    "  <albums/>\n",
    "  <albums/>\n",
    "</discography>\n",
    "\"\"\")"
   ]
  },
  {
   "cell_type": "code",
   "execution_count": 5,
   "metadata": {
    "deletable": false
   },
   "outputs": [
    {
     "name": "stdout",
     "output_type": "stream",
     "text": [
      "True\n",
      "True\n",
      "False\n"
     ]
    }
   ],
   "source": [
    "dtd = \"\"\"\n",
    "<!ELEMENT discography (albums?)>\n",
    "<!ELEMENT albums EMPTY>\n",
    "\"\"\"\n",
    "\n",
    "isvalid(dtd, \"\"\"\n",
    "<discography/>\n",
    "\"\"\")\n",
    "\n",
    "isvalid(dtd, \"\"\"\n",
    "<discography>\n",
    "  <albums/>\n",
    "</discography>\n",
    "\"\"\")\n",
    "\n",
    "# Warum ist dieses XML Dokument nicht gültig? Antwort: Das Schema erwartet, dass Dokumente kein oder genau ein leeres Element album als Kindelement von discography enthalten.\n",
    "isvalid(dtd, \"\"\"\n",
    "<discography>\n",
    "  <albums/>\n",
    "  <albums/>\n",
    "</discography>\n",
    "\"\"\")"
   ]
  },
  {
   "cell_type": "code",
   "execution_count": 7,
   "metadata": {
    "deletable": false
   },
   "outputs": [
    {
     "name": "stdout",
     "output_type": "stream",
     "text": [
      "False\n",
      "True\n",
      "True\n"
     ]
    }
   ],
   "source": [
    "dtd = \"\"\"\n",
    "<!ELEMENT discography (albums+)>\n",
    "<!ELEMENT albums EMPTY>\n",
    "\"\"\"\n",
    "\n",
    "# Warum ist dieses XML Dokument nicht gültig? Antwort: Es wird mindestens ein albums Element erwartet.\n",
    "isvalid(dtd, \"\"\"\n",
    "<discography/>\n",
    "\"\"\")\n",
    "\n",
    "isvalid(dtd, \"\"\"\n",
    "<discography>\n",
    "  <albums/>\n",
    "</discography>\n",
    "\"\"\")\n",
    "\n",
    "isvalid(dtd, \"\"\"\n",
    "<discography>\n",
    "  <albums/>\n",
    "  <albums/>\n",
    "</discography>\n",
    "\"\"\")"
   ]
  },
  {
   "cell_type": "code",
   "execution_count": 8,
   "metadata": {
    "deletable": false
   },
   "outputs": [
    {
     "name": "stdout",
     "output_type": "stream",
     "text": [
      "True\n"
     ]
    }
   ],
   "source": [
    "dtd = \"\"\"\n",
    "<!ELEMENT discography (albums)>\n",
    "<!ELEMENT albums (album+)>\n",
    "<!ELEMENT album (title)>\n",
    "<!ELEMENT title (#PCDATA)>\n",
    "\"\"\"\n",
    "\n",
    "isvalid(dtd, \"\"\"\n",
    "<discography>\n",
    "  <albums>\n",
    "    <album>\n",
    "      <title>The Dark Side of the Moon</title>\n",
    "    </album>\n",
    "  </albums>\n",
    "</discography>\n",
    "\"\"\")"
   ]
  },
  {
   "cell_type": "code",
   "execution_count": 9,
   "metadata": {
    "deletable": false
   },
   "outputs": [
    {
     "name": "stdout",
     "output_type": "stream",
     "text": [
      "True\n",
      "False\n"
     ]
    }
   ],
   "source": [
    "dtd = \"\"\"\n",
    "<!ELEMENT discography (albums)>\n",
    "<!ELEMENT albums (album+)>\n",
    "<!ELEMENT album (title, label)>\n",
    "<!ELEMENT title (#PCDATA)>\n",
    "<!ELEMENT label (#PCDATA)>\n",
    "\"\"\"\n",
    "\n",
    "isvalid(dtd, \"\"\"\n",
    "<discography>\n",
    "  <albums>\n",
    "    <album>\n",
    "      <title>The Dark Side of the Moon</title>\n",
    "      <label>Harvest, EMI</label>\n",
    "    </album>\n",
    "  </albums>\n",
    "</discography>\n",
    "\"\"\")\n",
    "\n",
    "# Warum ist dieses XML Dokument nicht gültig? Antwort: Die erwartete Reihenfolge der Elemente ist title, label. Diese sind in diesem Dokument vertauscht.\n",
    "isvalid(dtd, \"\"\"\n",
    "<discography>\n",
    "  <albums>\n",
    "    <album>\n",
    "      <label>Harvest, EMI</label>\n",
    "      <title>The Dark Side of the Moon</title>\n",
    "    </album>\n",
    "  </albums>\n",
    "</discography>\n",
    "\"\"\")"
   ]
  },
  {
   "cell_type": "code",
   "execution_count": 14,
   "metadata": {
    "deletable": false
   },
   "outputs": [
    {
     "name": "stdout",
     "output_type": "stream",
     "text": [
      "True\n"
     ]
    }
   ],
   "source": [
    "dtd = \"\"\"\n",
    "<!ELEMENT discography (albums)>\n",
    "<!ELEMENT albums (album+)>\n",
    "<!ELEMENT album (title, label)>\n",
    "<!ELEMENT title (#PCDATA)>\n",
    "\"\"\"\n",
    "\n",
    "# Warum ist dieses XML Dokument nicht gültig? Antwort: Das Dokument enthält ein Element label welches das Schema nicht deklariert. Hier muss nicht nur das Dokument sondern auch das Schema korrigiert werden. Im Schema muss das Element entweder korrekt deklariert werden oder nicht verwendet werden.\n",
    "isvalid(dtd, \"\"\"\n",
    "<discography>\n",
    "  <albums>\n",
    "    <album>\n",
    "      <title>The Dark Side of the Moon</title>\n",
    "      <label>Harvest, EMI</label>\n",
    "    </album>\n",
    "  </albums>\n",
    "</discography>\n",
    "\"\"\")"
   ]
  },
  {
   "cell_type": "code",
   "execution_count": 15,
   "metadata": {
    "deletable": false
   },
   "outputs": [
    {
     "name": "stdout",
     "output_type": "stream",
     "text": [
      "True\n",
      "True\n"
     ]
    }
   ],
   "source": [
    "dtd = \"\"\"\n",
    "<!ELEMENT discography (albums)>\n",
    "<!ELEMENT albums (album+)>\n",
    "<!ELEMENT album (#PCDATA | title)*>\n",
    "<!ELEMENT title (#PCDATA)>\n",
    "\"\"\"\n",
    "\n",
    "isvalid(dtd, \"\"\"\n",
    "<discography>\n",
    "  <albums>\n",
    "    <album>The Dark Side of the Moon</album>\n",
    "  </albums>\n",
    "</discography>\n",
    "\"\"\")\n",
    "\n",
    "isvalid(dtd, \"\"\"\n",
    "<discography>\n",
    "  <albums>\n",
    "    <album>\n",
    "      <title>The Dark Side of the Moon</title>\n",
    "    </album>\n",
    "  </albums>\n",
    "</discography>\n",
    "\"\"\")"
   ]
  },
  {
   "cell_type": "code",
   "execution_count": 17,
   "metadata": {
    "deletable": false
   },
   "outputs": [
    {
     "name": "stdout",
     "output_type": "stream",
     "text": [
      "True\n",
      "True\n",
      "False\n"
     ]
    }
   ],
   "source": [
    "dtd = \"\"\"\n",
    "<!ELEMENT discography (albums)>\n",
    "<!ELEMENT albums (album+)>\n",
    "<!ELEMENT album (title | label)>\n",
    "<!ELEMENT title (#PCDATA)>\n",
    "<!ELEMENT label (#PCDATA)>\n",
    "\"\"\"\n",
    "\n",
    "isvalid(dtd, \"\"\"\n",
    "<discography>\n",
    "  <albums>\n",
    "    <album>\n",
    "      <title>The Dark Side of the Moon</title>\n",
    "    </album>\n",
    "  </albums>\n",
    "</discography>\n",
    "\"\"\")\n",
    "\n",
    "isvalid(dtd, \"\"\"\n",
    "<discography>\n",
    "  <albums>\n",
    "    <album>\n",
    "      <label>Harvest, EMI</label>\n",
    "    </album>\n",
    "  </albums>\n",
    "</discography>\n",
    "\"\"\")\n",
    "\n",
    "# Warum ist dieses XML Dokument nicht gültig? Antwort: Das Schema spezifiziert, dass entweder das Element title oder das Element label Kindelement von album sein dürfen.\n",
    "isvalid(dtd, \"\"\"\n",
    "<discography>\n",
    "  <albums>\n",
    "    <album>\n",
    "      <title>The Dark Side of the Moon</title>\n",
    "      <label>Harvest, EMI</label>\n",
    "    </album>\n",
    "  </albums>\n",
    "</discography>\n",
    "\"\"\")"
   ]
  },
  {
   "cell_type": "code",
   "execution_count": 18,
   "metadata": {
    "deletable": false
   },
   "outputs": [
    {
     "name": "stdout",
     "output_type": "stream",
     "text": [
      "True\n"
     ]
    }
   ],
   "source": [
    "isvalid(\"\"\"\n",
    "<!ELEMENT discography (albums)>\n",
    "<!ELEMENT albums (album*)>\n",
    "<!ELEMENT album (title, label, released)>\n",
    "<!ELEMENT title (#PCDATA)>\n",
    "<!ELEMENT label (#PCDATA)>\n",
    "<!ELEMENT released (day, month, year)>\n",
    "<!ELEMENT day (#PCDATA)>\n",
    "<!ELEMENT month (#PCDATA)>\n",
    "<!ELEMENT year (#PCDATA)>\n",
    "\"\"\", \"\"\"\n",
    "<discography>\n",
    "  <albums>\n",
    "    <album>\n",
    "      <title>The Dark Side of the Moon</title>\n",
    "      <label>Harvest, EMI</label>\n",
    "      <released>\n",
    "        <day>16</day>\n",
    "        <month>03</month>\n",
    "        <year>1973</year>\n",
    "      </released>\n",
    "    </album>\n",
    "  </albums>\n",
    "</discography>\n",
    "\"\"\")"
   ]
  },
  {
   "cell_type": "code",
   "execution_count": 19,
   "metadata": {
    "deletable": false
   },
   "outputs": [
    {
     "name": "stdout",
     "output_type": "stream",
     "text": [
      "True\n",
      "True\n",
      "True\n",
      "True\n"
     ]
    }
   ],
   "source": [
    "dtd = \"\"\"\n",
    "<!ELEMENT discography (albums)>\n",
    "<!ELEMENT albums (album*)>\n",
    "<!ELEMENT album (title, label, released?)>\n",
    "<!ELEMENT title (#PCDATA)>\n",
    "<!ELEMENT label (#PCDATA)>\n",
    "<!ELEMENT released ((day, month)?, year)>\n",
    "<!ELEMENT day (#PCDATA)>\n",
    "<!ELEMENT month (#PCDATA)>\n",
    "<!ELEMENT year (#PCDATA)>\n",
    "\"\"\"\n",
    "\n",
    "isvalid(dtd, \"\"\"\n",
    "<discography>\n",
    "  <albums>\n",
    "    <album>\n",
    "      <title>The Dark Side of the Moon</title>\n",
    "      <label>Harvest, EMI</label>\n",
    "      <released>\n",
    "        <day>16</day>\n",
    "        <month>03</month>\n",
    "        <year>1973</year>\n",
    "      </released>\n",
    "    </album>\n",
    "  </albums>\n",
    "</discography>\n",
    "\"\"\")\n",
    "\n",
    "isvalid(dtd, \"\"\"\n",
    "<discography>\n",
    "  <albums>\n",
    "    <album>\n",
    "      <title>The Dark Side of the Moon</title>\n",
    "      <label>Harvest, EMI</label>\n",
    "    </album>\n",
    "  </albums>\n",
    "</discography>\n",
    "\"\"\")\n",
    "\n",
    "\n",
    "isvalid(dtd, \"\"\"\n",
    "<discography>\n",
    "  <albums>\n",
    "    <album>\n",
    "      <title>The Dark Side of the Moon</title>\n",
    "      <label>Harvest, EMI</label>\n",
    "      <released>\n",
    "        <year>1973</year>\n",
    "      </released>\n",
    "    </album>\n",
    "  </albums>\n",
    "</discography>\n",
    "\"\"\")\n",
    "\n",
    "isvalid(dtd, \"\"\"\n",
    "<discography>\n",
    "  <albums>\n",
    "    <album>\n",
    "      <title>The Dark Side of the Moon</title>\n",
    "      <label>Harvest, EMI</label>\n",
    "    </album>\n",
    "    <album>\n",
    "      <title>The Wall</title>\n",
    "      <label>Harvest, EMI</label>\n",
    "      <released>\n",
    "        <year>1979</year> \n",
    "      </released>\n",
    "    </album>\n",
    "  </albums>\n",
    "</discography>\n",
    "\"\"\")"
   ]
  },
  {
   "cell_type": "markdown",
   "metadata": {
    "deletable": false
   },
   "source": [
    "## Attribute"
   ]
  },
  {
   "cell_type": "code",
   "execution_count": 20,
   "metadata": {
    "deletable": false
   },
   "outputs": [
    {
     "name": "stdout",
     "output_type": "stream",
     "text": [
      "True\n",
      "True\n"
     ]
    }
   ],
   "source": [
    "dtd = \"\"\"\n",
    "<!ELEMENT discography (albums)>\n",
    "<!ELEMENT albums (album*)>\n",
    "<!ELEMENT album (title)>\n",
    "<!ELEMENT title (#PCDATA)>\n",
    "<!ATTLIST title released CDATA \"1973\">\n",
    "\"\"\"\n",
    "\n",
    "isvalid(dtd, \"\"\"\n",
    "<discography>\n",
    "  <albums>\n",
    "    <album>\n",
    "      <title released=\"1973\">The Dark Side of the Moon</title>\n",
    "    </album>\n",
    "  </albums>\n",
    "</discography>\n",
    "\"\"\")\n",
    "\n",
    "isvalid(dtd, \"\"\"\n",
    "<discography>\n",
    "  <albums>\n",
    "    <album>\n",
    "      <title released=\"1979\">The Wall</title>\n",
    "    </album>\n",
    "  </albums>\n",
    "</discography>\n",
    "\"\"\")"
   ]
  },
  {
   "cell_type": "code",
   "execution_count": 22,
   "metadata": {
    "deletable": false
   },
   "outputs": [
    {
     "name": "stdout",
     "output_type": "stream",
     "text": [
      "True\n",
      "False\n"
     ]
    }
   ],
   "source": [
    "dtd = \"\"\"\n",
    "<!ELEMENT discography (albums)>\n",
    "<!ELEMENT albums (album*)>\n",
    "<!ELEMENT album (title)>\n",
    "<!ELEMENT title (#PCDATA)>\n",
    "<!ATTLIST title released CDATA #REQUIRED>\n",
    "\"\"\"\n",
    "\n",
    "isvalid(dtd, \"\"\"\n",
    "<discography>\n",
    "  <albums>\n",
    "    <album>\n",
    "      <title released=\"1973\">The Dark Side of the Moon</title>\n",
    "    </album>\n",
    "  </albums>\n",
    "</discography>\n",
    "\"\"\")\n",
    "\n",
    "# Warum ist dieses XML Dokument nicht gültig? Antwort: Das attribut released ist REQUIRED, also notwendig. \n",
    "isvalid(dtd, \"\"\"\n",
    "<discography>\n",
    "  <albums>\n",
    "    <album>\n",
    "      <title>The Dark Side of the Moon</title>\n",
    "    </album>\n",
    "  </albums>\n",
    "</discography>\n",
    "\"\"\")"
   ]
  },
  {
   "cell_type": "code",
   "execution_count": 23,
   "metadata": {
    "deletable": false
   },
   "outputs": [
    {
     "name": "stdout",
     "output_type": "stream",
     "text": [
      "True\n",
      "True\n"
     ]
    }
   ],
   "source": [
    "dtd = \"\"\"\n",
    "<!ELEMENT discography (albums)>\n",
    "<!ELEMENT albums (album*)>\n",
    "<!ELEMENT album (title)>\n",
    "<!ELEMENT title (#PCDATA)>\n",
    "<!ATTLIST title released CDATA #IMPLIED>\n",
    "\"\"\"\n",
    "\n",
    "isvalid(dtd, \"\"\"\n",
    "<discography>\n",
    "  <albums>\n",
    "    <album>\n",
    "      <title released=\"1973\">The Dark Side of the Moon</title>\n",
    "    </album>\n",
    "  </albums>\n",
    "</discography>\n",
    "\"\"\")\n",
    "\n",
    "# Warum ist dieses XML Dokument gültig? Antwort: In diesem Schema ist das Attribut released optional.\n",
    "isvalid(dtd, \"\"\"\n",
    "<discography>\n",
    "  <albums>\n",
    "    <album>\n",
    "      <title>The Dark Side of the Moon</title>\n",
    "    </album>\n",
    "  </albums>\n",
    "</discography>\n",
    "\"\"\")"
   ]
  },
  {
   "cell_type": "code",
   "execution_count": 25,
   "metadata": {
    "deletable": false
   },
   "outputs": [
    {
     "name": "stdout",
     "output_type": "stream",
     "text": [
      "True\n",
      "False\n",
      "True\n"
     ]
    }
   ],
   "source": [
    "dtd = \"\"\"\n",
    "<!ELEMENT discography (albums)>\n",
    "<!ELEMENT albums (album*)>\n",
    "<!ELEMENT album (title)>\n",
    "<!ELEMENT title (#PCDATA)>\n",
    "<!ATTLIST title released CDATA #FIXED \"1973\">\n",
    "\"\"\"\n",
    "\n",
    "isvalid(dtd, \"\"\"\n",
    "<discography>\n",
    "  <albums>\n",
    "    <album>\n",
    "      <title released=\"1973\">The Dark Side of the Moon</title>\n",
    "    </album>\n",
    "  </albums>\n",
    "</discography>\n",
    "\"\"\")\n",
    "\n",
    "# Warum ist dieses XML Dokument nicht gültig? Antwort: Der Wert des Attributs released ist als 1973 vorgegeben.\n",
    "isvalid(dtd, \"\"\"\n",
    "<discography>\n",
    "  <albums>\n",
    "    <album>\n",
    "      <title released=\"1979\">The Wall</title>\n",
    "    </album>\n",
    "  </albums>\n",
    "</discography>\n",
    "\"\"\")\n",
    "\n",
    "isvalid(dtd, \"\"\"\n",
    "<discography>\n",
    "  <albums>\n",
    "    <album>\n",
    "      <title>The Wall</title>\n",
    "    </album>\n",
    "  </albums>\n",
    "</discography>\n",
    "\"\"\")"
   ]
  },
  {
   "cell_type": "code",
   "execution_count": 27,
   "metadata": {
    "deletable": false
   },
   "outputs": [
    {
     "name": "stdout",
     "output_type": "stream",
     "text": [
      "True\n",
      "True\n",
      "False\n"
     ]
    }
   ],
   "source": [
    "dtd = \"\"\"\n",
    "<!ELEMENT discography (albums)>\n",
    "<!ELEMENT albums (album*)>\n",
    "<!ELEMENT album (title)>\n",
    "<!ELEMENT title (#PCDATA)>\n",
    "<!ATTLIST title released (1973 | 1979) #REQUIRED>\n",
    "\"\"\"\n",
    "\n",
    "isvalid(dtd, \"\"\"\n",
    "<discography>\n",
    "  <albums>\n",
    "    <album>\n",
    "      <title released=\"1973\">The Dark Side of the Moon</title>\n",
    "    </album>\n",
    "  </albums>\n",
    "</discography>\n",
    "\"\"\")\n",
    "\n",
    "# Warum ist dieses XML Dokument gültig? Antwort: Der Attributwert kann 1973 oder 1979 sein. In diesem Dokument ist das der Fall.\n",
    "isvalid(dtd, \"\"\"\n",
    "<discography>\n",
    "  <albums>\n",
    "    <album>\n",
    "      <title released=\"1973\">The Dark Side of the Moon</title>\n",
    "    </album>\n",
    "    <album>\n",
    "      <title released=\"1979\">The Wall</title>\n",
    "    </album>\n",
    "  </albums>\n",
    "</discography>\n",
    "\"\"\")\n",
    "\n",
    "isvalid(dtd, \"\"\"\n",
    "<discography>\n",
    "  <albums>\n",
    "    <album>\n",
    "      <title released=\"1982\">The Wall</title>\n",
    "    </album>\n",
    "  </albums>\n",
    "</discography>\n",
    "\"\"\")"
   ]
  },
  {
   "cell_type": "code",
   "execution_count": 29,
   "metadata": {
    "deletable": false
   },
   "outputs": [
    {
     "name": "stdout",
     "output_type": "stream",
     "text": [
      "True\n",
      "False\n"
     ]
    }
   ],
   "source": [
    "dtd = \"\"\"\n",
    "<!ELEMENT discography (albums)>\n",
    "<!ELEMENT albums (album*)>\n",
    "<!ELEMENT album (title)>\n",
    "<!ELEMENT title (#PCDATA)>\n",
    "<!ATTLIST title identifier ID #REQUIRED>\n",
    "\"\"\"\n",
    "\n",
    "isvalid(dtd, \"\"\"\n",
    "<discography>\n",
    "  <albums>\n",
    "    <album>\n",
    "      <title identifier=\"p1\">The Dark Side of the Moon</title>\n",
    "    </album>\n",
    "    <album>\n",
    "      <title identifier=\"p2\">The Wall</title>\n",
    "    </album>\n",
    "  </albums>\n",
    "</discography>\n",
    "\"\"\")\n",
    "\n",
    "# Warum ist dieses XML Dokument nicht gültig? Antwort: Das Attribut identifier ist von Typ IDentifier. Die Attributwerte müssen im ganzen Dokument eindeutig sein. Hier wird der Wert p1 mehrmals verwendet.\n",
    "isvalid(dtd, \"\"\"\n",
    "<discography>\n",
    "  <albums>\n",
    "    <album>\n",
    "      <title identifier=\"p1\">The Dark Side of the Moon</title>\n",
    "    </album>\n",
    "    <album>\n",
    "      <title identifier=\"p1\">The Wall</title>\n",
    "    </album>\n",
    "  </albums>\n",
    "</discography>\n",
    "\"\"\")"
   ]
  },
  {
   "cell_type": "code",
   "execution_count": 31,
   "metadata": {
    "deletable": false
   },
   "outputs": [
    {
     "name": "stdout",
     "output_type": "stream",
     "text": [
      "True\n",
      "True\n",
      "False\n"
     ]
    }
   ],
   "source": [
    "dtd = \"\"\"\n",
    "<!ELEMENT discography (albums)>\n",
    "<!ELEMENT albums (album*)>\n",
    "<!ELEMENT album EMPTY>\n",
    "<!ATTLIST album title CDATA #REQUIRED>\n",
    "<!ATTLIST album released CDATA #IMPLIED>\n",
    "\"\"\"\n",
    "\n",
    "isvalid(dtd, \"\"\"\n",
    "<discography>\n",
    "  <albums>\n",
    "    <album title=\"The Dark Side of the Moon\" released=\"1973\"/>\n",
    "  </albums>\n",
    "</discography>\n",
    "\"\"\")\n",
    "\n",
    "isvalid(dtd, \"\"\"\n",
    "<discography>\n",
    "  <albums>\n",
    "    <album title=\"The Dark Side of the Moon\"/>\n",
    "  </albums>\n",
    "</discography>\n",
    "\"\"\")\n",
    "\n",
    "# Warum ist dieses XML Dokument nicht gültig? Antwort: Das Attribut title wird erwartet.\n",
    "isvalid(dtd, \"\"\"\n",
    "<discography>\n",
    "  <albums>\n",
    "    <album released=\"1973\"/>\n",
    "  </albums>\n",
    "</discography>\n",
    "\"\"\")"
   ]
  },
  {
   "cell_type": "code",
   "execution_count": 32,
   "metadata": {
    "deletable": false
   },
   "outputs": [
    {
     "name": "stdout",
     "output_type": "stream",
     "text": [
      "True\n"
     ]
    }
   ],
   "source": [
    "dtd = \"\"\"\n",
    "<!ELEMENT discography (albums)>\n",
    "<!ELEMENT albums (album*)>\n",
    "<!ELEMENT album EMPTY>\n",
    "<!ATTLIST album title CDATA #REQUIRED\n",
    "                released CDATA #IMPLIED>\n",
    "\"\"\"\n",
    "\n",
    "isvalid(dtd, \"\"\"\n",
    "<discography>\n",
    "  <albums>\n",
    "    <album title=\"The Dark Side of the Moon\" released=\"1973\"/>\n",
    "  </albums>\n",
    "</discography>\n",
    "\"\"\")"
   ]
  },
  {
   "cell_type": "markdown",
   "metadata": {
    "deletable": false
   },
   "source": [
    "## Entitäten"
   ]
  },
  {
   "cell_type": "code",
   "execution_count": 34,
   "metadata": {
    "deletable": false
   },
   "outputs": [
    {
     "name": "stdout",
     "output_type": "stream",
     "text": [
      "True\n",
      "['Roger Waters']\n"
     ]
    }
   ],
   "source": [
    "dtd = \"\"\"\n",
    "<!ELEMENT discography (albums)>\n",
    "<!ELEMENT albums (album*)>\n",
    "<!ELEMENT album (#PCDATA)>\n",
    "\"\"\"\n",
    "\n",
    "doc = \"\"\"\n",
    "<!DOCTYPE discography [\n",
    "<!ENTITY waters \"Roger Waters\">\n",
    "]>\n",
    "<discography>\n",
    "  <albums>\n",
    "    <album>&waters;</album>\n",
    "  </albums>\n",
    "</discography>\n",
    "\"\"\"\n",
    "\n",
    "isvalid(dtd, doc)\n",
    "\n",
    "# Warum ergibt dies 'Roger Waters'? Antwort: Weil 'Roger Waters' der Wert der Entität &waters; ist. Der Wert wird automatisch ersetzt.\n",
    "exp(doc, '/discography/albums/album/text()')"
   ]
  },
  {
   "cell_type": "markdown",
   "metadata": {
    "deletable": false
   },
   "source": [
    "## Namensräume"
   ]
  },
  {
   "cell_type": "code",
   "execution_count": 35,
   "metadata": {
    "deletable": false
   },
   "outputs": [
    {
     "name": "stdout",
     "output_type": "stream",
     "text": [
      "True\n"
     ]
    }
   ],
   "source": [
    "dtd = \"\"\"\n",
    "<!ELEMENT disc:discography (albs:albums)>\n",
    "<!ELEMENT albs:albums (albs:album*)>\n",
    "<!ELEMENT albs:album EMPTY>\n",
    "<!ATTLIST disc:discography xmlns:disc CDATA #FIXED \"http://discography.org\">\n",
    "<!ATTLIST disc:discography xmlns:albs CDATA #FIXED \"http://albums.org\">\n",
    "<!ATTLIST albs:album title CDATA #REQUIRED>\n",
    "<!ATTLIST albs:album released CDATA #REQUIRED>\n",
    "\"\"\"\n",
    "\n",
    "doc = \"\"\"\n",
    "<disc:discography xmlns:disc=\"http://discography.org\" xmlns:albs=\"http://albums.org\">\n",
    "<albs:albums>\n",
    "<albs:album title=\"The Dark Side of the Moon\" released=\"1973\"/>\n",
    "</albs:albums>\n",
    "</disc:discography>\n",
    "\"\"\"\n",
    "\n",
    "isvalid(dtd, doc)"
   ]
  },
  {
   "cell_type": "markdown",
   "metadata": {
    "deletable": false
   },
   "source": [
    "Denken Sie sich nun ein eigenes XML Dokument aus und erstellen Sie dafür eine DTD."
   ]
  },
  {
   "cell_type": "code",
   "execution_count": 38,
   "metadata": {
    "deletable": false
   },
   "outputs": [
    {
     "name": "stdout",
     "output_type": "stream",
     "text": [
      "True\n"
     ]
    }
   ],
   "source": [
    "dtd = \"\"\"\n",
    "<!ELEMENT addresses (address+)>\n",
    "<!ELEMENT address (streetname, streetnumber, zip?, city)>\n",
    "<!ELEMENT streetname (#PCDATA)>\n",
    "<!ELEMENT streetnumber (#PCDATA)>\n",
    "<!ELEMENT zip (#PCDATA)>\n",
    "<!ELEMENT city (#PCDATA)>\n",
    "\"\"\"\n",
    "\n",
    "doc = \"\"\"\n",
    "<addresses>\n",
    "<address>\n",
    "<streetname>Lange Laube</streetname>\n",
    "<streetnumber>43</streetnumber>\n",
    "<zip>30178</zip>\n",
    "<city>Hannover</city>\n",
    "</address>\n",
    "<address>\n",
    "<streetname>Tintentrift</streetname>\n",
    "<streetnumber>4b</streetnumber>\n",
    "<city>Hannover</city>\n",
    "</address>\n",
    "</addresses>\n",
    "\"\"\"\n",
    "\n",
    "isvalid(dtd, doc)"
   ]
  }
 ],
 "metadata": {
  "kernelspec": {
   "display_name": "Python 3",
   "language": "python",
   "name": "python3"
  },
  "language_info": {
   "codemirror_mode": {
    "name": "ipython",
    "version": 3
   },
   "file_extension": ".py",
   "mimetype": "text/x-python",
   "name": "python",
   "nbconvert_exporter": "python",
   "pygments_lexer": "ipython3",
   "version": "3.6.4"
  }
 },
 "nbformat": 4,
 "nbformat_minor": 2
}
