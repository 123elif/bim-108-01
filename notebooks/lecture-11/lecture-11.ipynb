{
 "cells": [
  {
   "cell_type": "markdown",
   "metadata": {
    "deletable": false
   },
   "source": [
    "# Einführung in RDF Schema"
   ]
  },
  {
   "cell_type": "markdown",
   "metadata": {
    "deletable": false
   },
   "source": [
    "Tripelmengen sind unübersichtlich. Es ist generell schwierig einen Einblick zu erhalten worüber eine Tripelmenge Aussagen trifft. Um Tripelmengen und die darin enthaltenen Ressourcen zu organisieren wurde RDF Schema (RDFS) entwickelt. Zentral ist die Gruppierung von Ressourcen als RDFS Klassen. Hat man Klassen definiert, ist es möglich Ressourcen zu typisieren also festlegen, dass eine Ressource eine Instanz einer Klasse ist. Zudem ermöglich RDFS die Erstellung von Klassenhierarchien wie auch Prädikathierarchien. In dieser Übung werden wir diese Konzepte anhand praktischer Beispiele genauer ansehen. Wie üblich, gehen Sie die Codeblöcke nacheinander durch und beantworten Sie die Fragen."
   ]
  },
  {
   "cell_type": "code",
   "execution_count": null,
   "metadata": {
    "deletable": false
   },
   "outputs": [],
   "source": [
    "import pandas as pd\n",
    "from io import BytesIO\n",
    "from io import StringIO\n",
    "from rdflib import Graph, URIRef\n",
    "from rdflib.namespace import RDF\n",
    "from rdflib.plugins.sparql.results.csvresults import CSVResultSerializer\n",
    "from rdflib.plugins.sparql import prepareQuery\n",
    "from IPython.display import display\n",
    "\n",
    "prefixes = \"\"\"\n",
    "@prefix : <http://example.org#> .\n",
    "@prefix rdf: <http://www.w3.org/1999/02/22-rdf-syntax-ns#> .\n",
    "@prefix rdfs: <http://www.w3.org/2000/01/rdf-schema#> .\n",
    "\"\"\"\n",
    "\n",
    "g = Graph()\n",
    "\n",
    "def evaluate(rs):\n",
    "    serializer = CSVResultSerializer(rs)\n",
    "    output = BytesIO()\n",
    "    serializer.serialize(output)\n",
    "    display(pd.read_csv(StringIO(output.getvalue().decode())))\n",
    "    \n",
    "def query(rdf, sparql):\n",
    "    r = g.parse(data='{}{}'.format(prefixes, rdf), format='turtle')\n",
    "    rs = g.query(sparql)\n",
    "    evaluate(rs)\n",
    "    \n",
    "def reason(rdf, sparql):\n",
    "    superclass = URIRef('http://example.org#Work')\n",
    "    r = g.parse(data='{}{}'.format(prefixes, rdf), format='turtle')\n",
    "    rs1 = g.query(prepareQuery('SELECT ?subclass WHERE { ?subclass rdfs:subClassOf ?superclass }'), \n",
    "                  initBindings={'superclass': superclass})\n",
    "    for qs1 in rs1:\n",
    "        rs2 = g.query(prepareQuery('SELECT ?instance WHERE { ?instance rdf:type ?class }'), \n",
    "                      initBindings={'class': qs1['subclass']})\n",
    "        for qs2 in rs2:\n",
    "            g.add((qs2['instance'], RDF.type, superclass))\n",
    "    evaluate(g.query(sparql))"
   ]
  },
  {
   "cell_type": "code",
   "execution_count": null,
   "metadata": {
    "deletable": false
   },
   "outputs": [],
   "source": [
    "rdf = \"\"\"\n",
    ":r1 rdf:type :Album .\n",
    ":r2 rdf:type :Album .\n",
    ":r3 rdf:type :Single .\n",
    "\"\"\"\n",
    "\n",
    "# In wieviele Gruppen kann man die Ressourcen :r1, :r2, :r3 intuitiv organisieren? Antwort: \n",
    "# Welche Klassen lassen sich hier rauslesen? Antwort: "
   ]
  },
  {
   "cell_type": "markdown",
   "metadata": {
    "deletable": false
   },
   "source": [
    "Sie haben nun Klassen identifiziert, diese sind auch mittles URI benannt. \n",
    "\n",
    "Erstellen Sie nun als nächstes ein Dokument welches aussagt, dass die identifizierten Klassen in der Tat RDFS Klassen sind.\n",
    "\n",
    "Führen Sie dann den Codeblock aus damit die SPARQL Abfrage ausgeführt wird."
   ]
  },
  {
   "cell_type": "code",
   "execution_count": null,
   "metadata": {
    "deletable": false
   },
   "outputs": [],
   "source": [
    "rdf = \"\"\"\n",
    "\"\"\"\n",
    "\n",
    "query(rdf, \"SELECT ?class WHERE { ?class rdf:type rdfs:Class }\")\n",
    "\n",
    "# Entspricht die Antwort der SPARQL Abfrage Ihren Erwartungen? Antwort: "
   ]
  },
  {
   "cell_type": "markdown",
   "metadata": {
    "deletable": false
   },
   "source": [
    "Verwenden Sie nun Ihre definierten Klassen und typisieren Sie die folgenden Ressourcen `:r1`, `:r2`, und `:r3`.\n",
    "\n",
    "Die drei Ressourcen sollen jeweils Instanzen einer der Klassen sein."
   ]
  },
  {
   "cell_type": "code",
   "execution_count": null,
   "metadata": {
    "deletable": false
   },
   "outputs": [],
   "source": [
    "rdf = \"\"\"\n",
    ":r1 :title \"The Dark Side of the Moon\" .\n",
    ":r2 :title \"The Wall\" .\n",
    ":r3 :title \"What God Wants, Part 1\" .\n",
    "\"\"\"\n",
    "\n",
    "query(rdf, \"SELECT ?resource ?class ?title WHERE { ?resource rdf:type ?class . ?resource :title ?title }\")\n",
    "\n",
    "# Entspricht die Antwort der SPARQL Abfrage Ihren Erwartungen? Antwort: "
   ]
  },
  {
   "cell_type": "markdown",
   "metadata": {
    "deletable": false
   },
   "source": [
    "In der Vorlesung haben wir gesehen, dass man mit RDFS Unterklassen bilden kann.\n",
    "\n",
    "Führen Sie nun eine Klasse `:Work` ein als Oberklasse der Klassen die Sie definiert haben.\n",
    "\n",
    "Die Aussagen sollten festhalten, dass Instanzen Ihrer Klassen *Werke* sind.\n",
    "\n",
    "Schreiben Sie dann eine SPARQL Abfrage mit der Sie die Unterklassen von `:Work` erhalten."
   ]
  },
  {
   "cell_type": "code",
   "execution_count": null,
   "metadata": {
    "deletable": false
   },
   "outputs": [],
   "source": [
    "rdf = \"\"\"\n",
    "\"\"\"\n",
    "\n",
    "query(rdf, \"SELECT ...\")\n",
    "\n",
    "# Entspricht die Antwort der SPARQL Abfrage Ihren Erwartungen? Antwort: "
   ]
  },
  {
   "cell_type": "markdown",
   "metadata": {
    "deletable": false
   },
   "source": [
    "Nun können in RDFS nicht nur Klassen definiert werden sondern auch Prädikate. \n",
    "\n",
    "Spezifizieren Sie als nächstes, dass `:title` und `:released` Prädikate sind.\n",
    "\n",
    "Schreiben Sie dann eine SPARQL Abfrage mit der Sie alle Prädikate erhalten. Stellen Sie dabei sicher, dass die Ausgabe alphabetisch sortiert ist."
   ]
  },
  {
   "cell_type": "code",
   "execution_count": null,
   "metadata": {
    "deletable": false
   },
   "outputs": [],
   "source": [
    "rdf = \"\"\"\n",
    "\"\"\"\n",
    "\n",
    "query(rdf, \"SELECT ...\")\n",
    "\n",
    "# Entspricht die Antwort der SPARQL Abfrage Ihren Erwartungen? Antwort: "
   ]
  },
  {
   "cell_type": "markdown",
   "metadata": {
    "deletable": false
   },
   "source": [
    "RDFS hat zur Folge, dass es zusätzlich zu den *expliziten* Tripel, wie z.B. \n",
    "\n",
    "```\n",
    ":r1 :title \"The Dark Side of the Moon\" .\n",
    "```\n",
    "\n",
    "auch *implizite* Tripel gibt. Solche Tripel sind korrekt (logisch impliziert) stehen aber nicht explizit in der Tripelmenge.\n",
    "\n",
    "Ein Beispiel. Die Folgenden Tripel sagen aus, dass Max Muster ein Student ist und Studenten Personen sind.\n",
    "\n",
    "```\n",
    ":Student rdf:type rdfs:Class .\n",
    ":Person rdf:type rdfs:Class .\n",
    ":Student rdfs:subClassOf rdfs:Person .\n",
    ":r1 rdf:type :Student .\n",
    ":r1 rdfs:label \"Max Muster\" .\n",
    "```\n",
    "\n",
    "Dies sind explizite Tripel.\n",
    "\n",
    "Es folgt allerdings, dass Max Muster eine Person ist, als Tripel\n",
    "\n",
    "```\n",
    ":r1 rdf:type :Person \n",
    "```\n",
    "\n",
    "Dieses Tripel ist implizit, es ist von den obigen fünf Tripel bedingt wird aber nicht explizit aufgeführt.\n",
    "\n",
    "Führen Sie die folgende SPARQL Abfrage aus und beantworten Sie die Fragen."
   ]
  },
  {
   "cell_type": "code",
   "execution_count": null,
   "metadata": {
    "deletable": false
   },
   "outputs": [],
   "source": [
    "reason(rdf, \"\"\"\n",
    "SELECT ?work ?title \n",
    "WHERE {\n",
    "  ?work rdf:type :Work .\n",
    "  ?work :title ?title .\n",
    "}\"\"\")\n",
    "\n",
    "# Erklären Sie warum Sie hier die drei Ressourcen erhalten obwohl Sie nach Werken suchen, \n",
    "# also nach der Oberklasse der beiden Klassen die Sie definiert haben.\n",
    "#\n",
    "# Anwort: "
   ]
  }
 ],
 "metadata": {
  "kernelspec": {
   "display_name": "Python 3",
   "language": "python",
   "name": "python3"
  },
  "language_info": {
   "codemirror_mode": {
    "name": "ipython",
    "version": 3
   },
   "file_extension": ".py",
   "mimetype": "text/x-python",
   "name": "python",
   "nbconvert_exporter": "python",
   "pygments_lexer": "ipython3",
   "version": "3.6.4"
  }
 },
 "nbformat": 4,
 "nbformat_minor": 2
}
