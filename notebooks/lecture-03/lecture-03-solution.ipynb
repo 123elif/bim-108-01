{
 "cells": [
  {
   "cell_type": "markdown",
   "metadata": {
    "deletable": false
   },
   "source": [
    "# XPath\n",
    "\n",
    "XPath ist eine Sprache zur Verarbeitung von XML Dokumenten. Man kann damit auf Teile eines XML Dokuments zugreifen, durch Elemente und Attribute navigieren, Elemente und Inhalte selektieren, wie auch einfache Operationen auf Inhalten durchführen. In dieser Übung lernen wir XPath anhand praktischen Beispiele besser kennen."
   ]
  },
  {
   "cell_type": "markdown",
   "metadata": {
    "deletable": false
   },
   "source": [
    "Schauen Sie sich die folgenden Beispiele an. \n",
    "\n",
    "Dort wo `# Erklärung:` steht, schreiben Sie Ihre Erklärung für das Resultat."
   ]
  },
  {
   "cell_type": "code",
   "execution_count": 1,
   "metadata": {
    "collapsed": true,
    "deletable": false
   },
   "outputs": [],
   "source": [
    "from lxml import etree as et\n",
    "\n",
    "doc = et.fromstring(\"\"\"\n",
    "<discography>\n",
    "  <albums>\n",
    "    <album>\n",
    "      <!-- The 26th best-selling album of all time -->\n",
    "      <title released=\"1973\">The Dark Side of the Moon</title>\n",
    "      <label>Harvest, EMI</label>\n",
    "      <released>\n",
    "        <day>16</day>\n",
    "        <month>03</month>\n",
    "        <year>1973</year>\n",
    "      </released>\n",
    "    </album>\n",
    "    <album>\n",
    "      <!-- The 5th best-selling album of all time -->\n",
    "      <title released=\"1979\">The Wall</title>\n",
    "      <label>Harvest, EMI</label>\n",
    "      <released>\n",
    "        <day>30</day>\n",
    "        <month>11</month>\n",
    "        <year>1979</year> \n",
    "      </released>\n",
    "    </album>\n",
    "  </albums>\n",
    "  <singles>\n",
    "    <single>\n",
    "      <author name=\"Roger Waters\">\n",
    "        <firstname>Roger</firstname>\n",
    "        <lastname>Waters</lastname>\n",
    "      </author>\n",
    "      <title released=\"1992\">What God Wants, Part 1</title>\n",
    "    </single>\n",
    "  </singles>\n",
    "</discography>\n",
    "\"\"\")\n",
    "\n",
    "def e(p):\n",
    "    print('{}'.format(p))\n",
    "    return doc.xpath(p)\n",
    "\n",
    "def p(s):\n",
    "    print('  -> {}\\n'.format(s))"
   ]
  },
  {
   "cell_type": "code",
   "execution_count": 3,
   "metadata": {
    "deletable": false
   },
   "outputs": [
    {
     "name": "stdout",
     "output_type": "stream",
     "text": [
      "/child::discography\n",
      "  -> [<Element discography at 0x7f81f16d34c8>]\n",
      "\n"
     ]
    }
   ],
   "source": [
    "# Jede Zeile ist ein XPath welcher auf dem obigen XML Dokument evaluiert wird. \n",
    "# Das Resultat wird nach Ausführung unten angezeigt.\n",
    "p(e('/child::discography')) # Erklärung: Ein absoluter Lokalisierungspfad mit einem Schritt mit Achse child und Knotentest discography. Der XPath liefert eine Liste [] mit einem Element, nähmlich den Knoten discography selbst."
   ]
  },
  {
   "cell_type": "code",
   "execution_count": 5,
   "metadata": {
    "deletable": false
   },
   "outputs": [
    {
     "name": "stdout",
     "output_type": "stream",
     "text": [
      "/discography\n",
      "  -> discography\n",
      "\n",
      "/child::*\n",
      "  -> [<Element discography at 0x7f81f16d34c8>]\n",
      "\n",
      "/discography/*\n",
      "  -> [<Element albums at 0x7f81f16e2088>, <Element singles at 0x7f81f16e20c8>]\n",
      "\n",
      "/albums\n",
      "  -> []\n",
      "\n"
     ]
    }
   ],
   "source": [
    "# Hier werden vier XPath evaluiert mit entsprechend vier Resultate\n",
    "p(e('/discography')[0].tag) # Erklärung: Gleich wie oben, allerdings in verkürzter Form (die child Achse ist unterlassen). Der XPath liefert hier nicht eine Liste sondern den Tag (Element Name) des nullten Elements in der Liste. Wichtig: die adressierung des nullten Elements in der Liste und davon der Tag ([0].tag) ist nicht Teil von XPath sondern eine Anweisung in Python.\n",
    "p(e('/child::*'))\n",
    "p(e('/discography/*'))\n",
    "p(e('/albums')) # Erklärung: Die resultierende Liste ist leer weil der Knotentest fehlschlägt. Es handelt sich um einen absoluten Lokalisierungspfad der also beim Wurzelknoten beginnt. Es gibt kein Kind albums."
   ]
  },
  {
   "cell_type": "code",
   "execution_count": 7,
   "metadata": {
    "deletable": false
   },
   "outputs": [
    {
     "name": "stdout",
     "output_type": "stream",
     "text": [
      "/child::discography/child::albums/child::album\n",
      "  -> [<Element album at 0x7f81f16d3a08>, <Element album at 0x7f81f16e2608>]\n",
      "\n",
      "/discography/albums/album\n",
      "  -> [<Element album at 0x7f81f16e2648>, <Element album at 0x7f81f16e2688>]\n",
      "\n",
      "/discography/albums/album/.\n",
      "  -> [<Element album at 0x7f81f16e2648>, <Element album at 0x7f81f16e2688>]\n",
      "\n",
      "/discography/albums/album\n",
      "  -> <Element album at 0x7f81f16e2648>\n",
      "\n",
      "/discography/albums/album\n",
      "  -> album\n",
      "\n",
      "/discographie/albums/album\n",
      "  -> []\n",
      "\n"
     ]
    }
   ],
   "source": [
    "p(e('/child::discography/child::albums/child::album'))\n",
    "# Warum ergibt dies das gleiche Resultat wie der vorherige XPath?\n",
    "# Schauen Sie nicht auf die 0x... Nummern.\n",
    "p(e('/discography/albums/album')) # Erklärung: Ein absoluter Lokalisierungspfad mit drei Schritten. Jeder Schritt ist in Richtung der Kinder und jeder Knotentest gelingt. Das Resultat ist eine Liste die (Referenzen auf) die beiden album Elemente enthält. \n",
    "p(e('/discography/albums/album/.'))\n",
    "p(e('/discography/albums/album')[0])\n",
    "p(e('/discography/albums/album')[1].tag) # Erklärung: Gleich wie oben, allerdings wird mittels Python Anweisung das erste Element aus der resultierenden Liste adressiert und davon den Tag (Element Name) ausgegeben.\n",
    "p(e('/discographie/albums/album'))"
   ]
  },
  {
   "cell_type": "code",
   "execution_count": 9,
   "metadata": {
    "deletable": false
   },
   "outputs": [
    {
     "name": "stdout",
     "output_type": "stream",
     "text": [
      "child::singles\n",
      "  -> [<Element singles at 0x7f81f16e2608>]\n",
      "\n",
      "singles\n",
      "  -> [<Element singles at 0x7f81f16e2848>]\n",
      "\n",
      "./singles\n",
      "  -> [<Element singles at 0x7f81f16e2608>]\n",
      "\n",
      "albums/album\n",
      "  -> [<Element album at 0x7f81f16e2608>, <Element album at 0x7f81f16e2848>]\n",
      "\n"
     ]
    }
   ],
   "source": [
    "p(e('child::singles'))\n",
    "p(e('singles'))\n",
    "p(e('./singles')) # Erklärung: Ein relativer Lokalisierungspfad der aus dem Kontextknoten ausgeht, hier ist das der Knoten discography. Der Lokalisierungspfad besteht aus zwei Schritten. Der erste ist die verkürzte Form des Kontextknotens selsbt (also discography). Der zweite Schritt ist über die Kinder des Kontextknotens mit Knotentest singles. Es resultiert eine Liste mit einem Element, nähmlich der Knoten singles.  \n",
    "p(e('albums/album'))"
   ]
  },
  {
   "cell_type": "code",
   "execution_count": 11,
   "metadata": {},
   "outputs": [
    {
     "name": "stdout",
     "output_type": "stream",
     "text": [
      "//singles\n",
      "  -> [<Element singles at 0x7f81f16e2388>]\n",
      "\n",
      "//album\n",
      "  -> [<Element album at 0x7f81f16e2388>, <Element album at 0x7f81f16e26c8>]\n",
      "\n",
      "//day\n",
      "  -> 30\n",
      "\n",
      "//day/text()\n",
      "  -> ['16', '30']\n",
      "\n",
      "//@released\n",
      "  -> ['1973', '1979', '1992']\n",
      "\n",
      "//@*\n",
      "  -> ['1973', '1979', 'Roger Waters', '1992']\n",
      "\n",
      "@*\n",
      "  -> []\n",
      "\n"
     ]
    }
   ],
   "source": [
    "p(e('//singles'))\n",
    "p(e('//album'))\n",
    "p(e('//day')[1].text) # Erklärung: // ist die verkürzte Form für die Menge welche den Kontextknoten und alle Nachkommen enthält. Diese Menge enthält somit alle Knoten. Der Knotentest ist für Knoten day. Es resultiert somit eine Liste aller day Elemente. Aus dieser Liste wird das erste Element adressiert und der Text (Element Inhalt) wird ausgegeben. Wichtig: <day>16</day> ist das nullte Element, <day>30</day> ist das erste Element in der resultierenden Liste. \n",
    "p(e('//day/text()'))\n",
    "p(e('//@released'))\n",
    "p(e('//@*'))\n",
    "# Inwiefern ist der folgende XPath anders als der vorherige? \n",
    "p(e('@*')) # Erklärung: Es fehlt hier die Adressierung aller Knoten mittels //. Somit resultiert hier eine leere Liste."
   ]
  },
  {
   "cell_type": "code",
   "execution_count": 14,
   "metadata": {
    "deletable": false
   },
   "outputs": [
    {
     "name": "stdout",
     "output_type": "stream",
     "text": [
      "descendant::*\n",
      "  -> [<Element albums at 0x7f81f16e2148>, <Element album at 0x7f81f16e28c8>, <Element title at 0x7f81f16e2848>, <Element label at 0x7f81f16e2808>, <Element released at 0x7f81f16e2d48>, <Element day at 0x7f81f16e2a48>, <Element month at 0x7f81f16e2388>, <Element year at 0x7f81f16e2988>, <Element album at 0x7f81f16e26c8>, <Element title at 0x7f81f16e2a08>, <Element label at 0x7f81f16e2a88>, <Element released at 0x7f81f16e2cc8>, <Element day at 0x7f81f16e2c48>, <Element month at 0x7f81f16e2888>, <Element year at 0x7f81f16e2948>, <Element singles at 0x7f81f16e2ac8>, <Element single at 0x7f81f16e2b08>, <Element author at 0x7f81f16e2b48>, <Element firstname at 0x7f81f16e2b88>, <Element lastname at 0x7f81f16e2bc8>, <Element title at 0x7f81f16e2d88>]\n",
      "\n",
      "descendant::*/album[1]/title\n",
      "  -> The Dark Side of the Moon\n",
      "\n",
      "descendant::*/album[2]/title/text()\n",
      "  -> ['The Wall']\n",
      "\n",
      "descendant::*/album[2]/title/text()\n",
      "  -> The Wall\n",
      "\n"
     ]
    }
   ],
   "source": [
    "p(e('descendant::*')) # Erklärung: Alle Nachkommen des Kontextknotens (hier discography). Der Kontextknoten selbst ist nicht in der resultierenden Liste.\n",
    "p(e('descendant::*/album[1]/title')[0].text)\n",
    "p(e('descendant::*/album[2]/title/text()'))\n",
    "p(e('descendant::*/album[2]/title/text()')[0]) # Erklärung: Relativer Lokalisierungspfad mit vier Schritten für das zweite album Element und davon das title Kindelement, wovon wir den Inhalt haben möchten (text()). Es resultiert eine Liste mit dem Knoteninhalt (The Wall). Wichtig, in XPath beginnt die Indexierung mit 1, 2, ... und in Python beginnt diese mit 0, 1, ... Dies erklärt warum hier die Indexe 1 und 2 stehen und nicht 0 und 1."
   ]
  },
  {
   "cell_type": "code",
   "execution_count": 21,
   "metadata": {
    "deletable": false
   },
   "outputs": [
    {
     "name": "stdout",
     "output_type": "stream",
     "text": [
      "/*/albums/album[1]/title/child::text()\n",
      "  -> ['The Dark Side of the Moon']\n",
      "\n",
      "/descendant::*/album[1]/title/child::text()\n",
      "  -> The Dark Side of the Moon\n",
      "\n",
      "/descendant::*/singles/single[1]/title/text()\n",
      "  -> ['What God Wants, Part 1']\n",
      "\n",
      "/descendant::*/singles/single[2]/title/text()\n",
      "  -> []\n",
      "\n"
     ]
    }
   ],
   "source": [
    "p(e('/*/albums/album[1]/title/child::text()')) # Erklärung: Absoluter Lokalisierungspfad für alle Kinderknoten des Wurzelknotens im ersten Schritt. Der zweite Schritt ist in Richtung der Kinder und tested auf albums. Dann geht es wieder in Richtung der Kinder mit Knotentest auf album. Hier wird das erste Element album aus der Liste adressiert. Für dieses Element geht es weiter in Richtung der Kinder und getested wird auf das Element title. Wieder in Richtung der Kinder wird nun der Textinhalt adressiertung und als Element einer Liste zurückgegeben. \n",
    "p(e('/descendant::*/album[1]/title/child::text()')[0]) # Erklärung: Ähnlich wie vorhin, allerdings wird im ersten Schritt eine Menge zurückgegeben die bereits alle Nachkommen des Wurzelknotens enthält. Auf dieser Menge wird nun der Rest des Lokalisierungspfades ausgewertet. Die resultierende Menge ist gleich, allerdings wird hier noch das nullte Element der Liste adressiert. Es wird also keine Liste zurückgegeben sondern direkt der Inhalt des nullten Elementes der Liste (die Zeichenfolge 'The Dark Side of the Moon')\n",
    "p(e('/descendant::*/singles/single[1]/title/text()'))\n",
    "p(e('/descendant::*/singles/single[2]/title/text()')) # Erklärung: Es gibt kein zweites single Element, somit ist die resultierende Menge leer."
   ]
  },
  {
   "cell_type": "code",
   "execution_count": 25,
   "metadata": {
    "deletable": false
   },
   "outputs": [
    {
     "name": "stdout",
     "output_type": "stream",
     "text": [
      "/discography/albums/album/.\n",
      "  -> [<Element album at 0x7f81f16e46c8>, <Element album at 0x7f81f16e44c8>]\n",
      "\n",
      "/discography/albums/album/..\n",
      "  -> [<Element albums at 0x7f81f16e4648>]\n",
      "\n",
      "/discography/albums/album[1]/title/following-sibling::*\n",
      "  -> [<Element label at 0x7f81f16e46c8>, <Element released at 0x7f81f16e4648>]\n",
      "\n",
      "/discography/albums/album[1]/label/following-sibling::*\n",
      "  -> [<Element released at 0x7f81f16e46c8>]\n",
      "\n",
      "/discography/albums/album[1]/released/preceding-sibling::*\n",
      "  -> [<Element title at 0x7f81f16e46c8>, <Element label at 0x7f81f16e4648>]\n",
      "\n",
      "/discography/albums/album[1]/released/preceding-sibling::*/text()\n",
      "  -> ['The Dark Side of the Moon', 'Harvest, EMI']\n",
      "\n",
      "//album[1]/parent::node()/album[2]/title/text()\n",
      "  -> ['The Wall']\n",
      "\n",
      "album[1]/parent::node()/album[2]/title/text()\n",
      "  -> []\n",
      "\n"
     ]
    }
   ],
   "source": [
    "p(e('/discography/albums/album/.'))\n",
    "p(e('/discography/albums/album/..')) # Erklärung: Absoluter Lokalisierungspfad der über drei Schritte die Menge adressiert die alle album Element enthält von dort allerdings wieder zurück zum Elternknoten wandert (..). \n",
    "p(e('/discography/albums/album[1]/title/following-sibling::*'))\n",
    "p(e('/discography/albums/album[1]/label/following-sibling::*'))\n",
    "p(e('/discography/albums/album[1]/released/preceding-sibling::*'))\n",
    "p(e('/discography/albums/album[1]/released/preceding-sibling::*/text()')) # Erklärung: Adressiert wird zunächst das erste album und danach das released Element. Dieses hat zwei vorhergende Geschwister, title und label. Die resultierende Liste enthält die Inhalte dieser beiden Knoten, der Titel und das Label des ersten albums.\n",
    "p(e('//album[1]/parent::node()/album[2]/title/text()')) # Erklärung: Aus der Menge aller Knoten (//) wird das erste album adressiert. Im zweiten Schritt wandert man zurück zum Elternknoten (albums). Der nächste Schritt ist nun wieder in Richtung der Kinder und der Knotentest adressiert das zweite album. Davon wird der Knoteninhalt (text()) des Kindeknoten title ausgegeben, und zwar als Element der resultierenden Liste.\n",
    "p(e('album[1]/parent::node()/album[2]/title/text()'))"
   ]
  },
  {
   "cell_type": "code",
   "execution_count": 27,
   "metadata": {},
   "outputs": [
    {
     "name": "stdout",
     "output_type": "stream",
     "text": [
      "//album/title/text()\n",
      "  -> ['The Dark Side of the Moon', 'The Wall']\n",
      "\n",
      "//album/title/child::text()\n",
      "  -> ['The Dark Side of the Moon', 'The Wall']\n",
      "\n",
      "//album/comment()\n",
      "  -> [<!-- The 26th best-selling album of all time -->, <!-- The 5th best-selling album of all time -->]\n",
      "\n",
      "//album[1]/child::node()\n",
      "  -> ['\\n      ', <!-- The 26th best-selling album of all time -->, '\\n      ', <Element title at 0x7f81f16e46c8>, '\\n      ', <Element label at 0x7f81f16e4208>, '\\n      ', <Element released at 0x7f81f16e4448>, '\\n    ']\n",
      "\n"
     ]
    }
   ],
   "source": [
    "p(e('//album/title/text()'))\n",
    "p(e('//album/title/child::text()'))\n",
    "p(e('//album/comment()'))\n",
    "p(e('//album[1]/child::node()')) # Erklärung: Die resultierende Liste enthält (Referenzen auf) die Kinderknoten des ersten album. Das sind nicht nur Kinderelemente, sondern auch Kommentare und sogar Zeilenumbrüche."
   ]
  },
  {
   "cell_type": "code",
   "execution_count": 32,
   "metadata": {
    "deletable": false
   },
   "outputs": [
    {
     "name": "stdout",
     "output_type": "stream",
     "text": [
      "/discography/albums/album/title[@released]\n",
      "  -> [<Element title at 0x7f81f16d3b08>, <Element title at 0x7f81f16e47c8>]\n",
      "\n",
      "/discography/albums/album/title[@released=\"1979\"]\n",
      "  -> [<Element title at 0x7f81f16e47c8>]\n",
      "\n",
      "/discography/albums/album/title[@released=\"1979\"]/text()\n",
      "  -> ['The Wall']\n",
      "\n",
      "/discography/albums/album/title[@released=1979]/text()\n",
      "  -> ['The Wall']\n",
      "\n",
      "//album/title[@released=1973]/text() | //album/released[day=30]/../title/text()\n",
      "  -> ['The Dark Side of the Moon', 'The Wall']\n",
      "\n",
      "descendant::*[firstname]/@name\n",
      "  -> ['Roger Waters']\n",
      "\n",
      "descendant::*[firstname][@name=\"Roger Waters\"]/parent::single/title/text()\n",
      "  -> ['What God Wants, Part 1']\n",
      "\n"
     ]
    }
   ],
   "source": [
    "p(e('/discography/albums/album/title[@released]'))\n",
    "p(e('/discography/albums/album/title[@released=\"1979\"]')) # Erklärung: Es resultiert zunächst die Menge der title Knoten aller album. Das Prädikat filtriert hier auf die title Knoten die ein Attribut released haben mit Attributwert 1979. \n",
    "p(e('/discography/albums/album/title[@released=\"1979\"]/text()'))\n",
    "p(e('/discography/albums/album/title[@released=1979]/text()'))\n",
    "p(e('//album/title[@released=1973]/text() | //album/released[day=30]/../title/text()')) # Erklärung: Ein Vereinigungsmenge zweier Lokalisierungspfade.\n",
    "p(e('descendant::*[firstname]/@name'))\n",
    "p(e('descendant::*[firstname][@name=\"Roger Waters\"]/parent::single/title/text()')) # Erklärung: Kaskadierendes Prädikat. Zuerst wird aus der Menge aller Knoten die Nachkommen des Kontextknoten sind (also alle Knoten ausser discography, der Kontextknoten selbst) wird auf die Knoten firstname gefiltert und davon (mittels kaskadierendem Prädikat) die firstname Knoten welche ein Attribut name haben mit Attributwert Roger waters. Für diese Menge wird nun in Richtung der Elternknoten navigiert und auf single Knoten getested. Dies ergibt eine Menge mit einem Knoten als Element der Menge und davon wird der Inhalt des Kindknotens title ausgegeben."
   ]
  },
  {
   "cell_type": "code",
   "execution_count": 35,
   "metadata": {
    "deletable": false
   },
   "outputs": [
    {
     "name": "stdout",
     "output_type": "stream",
     "text": [
      "count(albums)\n",
      "  -> 1.0\n",
      "\n",
      "count(albums/album)\n",
      "  -> 2.0\n",
      "\n",
      "//album[position()=1]/title/text()\n",
      "  -> ['The Dark Side of the Moon']\n",
      "\n",
      "//album[1]/title/text()\n",
      "  -> ['The Dark Side of the Moon']\n",
      "\n",
      "//album[position()>1]/title/text()\n",
      "  -> ['The Wall']\n",
      "\n",
      "//album[position()>=1]/title/text()\n",
      "  -> ['The Dark Side of the Moon', 'The Wall']\n",
      "\n",
      "//album[last()]/title/text()\n",
      "  -> ['The Wall']\n",
      "\n",
      "//album[starts-with(title, \"The D\")]/title/text()\n",
      "  -> ['The Dark Side of the Moon']\n",
      "\n",
      "//album[contains(title, \"Wall\")]/title/text()\n",
      "  -> ['The Wall']\n",
      "\n",
      "//album/released[not(year=1979)]/parent::node()/title/text()\n",
      "  -> ['The Dark Side of the Moon']\n",
      "\n"
     ]
    }
   ],
   "source": [
    "p(e('count(albums)'))\n",
    "p(e('count(albums/album)')) # Erklärung: Beispiel der Anwendung einer Funktion. Ausgegeben wird die Anzahl Elemente in der resultierenden Menge, also die beiden album Knoten. \n",
    "p(e('//album[position()=1]/title/text()'))\n",
    "p(e('//album[1]/title/text()'))\n",
    "p(e('//album[position()>1]/title/text()')) # Erklärung: Der Textinhalt des Titel aller Alben die in Position grösser als 1 in der Menge indexiert sind. Das ist dann das zweite Album (The Wall). Da es nicht mehr aus zwei gibt ist es das einzige resultierende Album.\n",
    "p(e('//album[position()>=1]/title/text()'))\n",
    "p(e('//album[last()]/title/text()'))\n",
    "p(e('//album[starts-with(title, \"The D\")]/title/text()')) # Erklärung: Die Titel welche mit 'The D' beginnen.\n",
    "p(e('//album[contains(title, \"Wall\")]/title/text()'))\n",
    "p(e('//album/released[not(year=1979)]/parent::node()/title/text()')) # Erklärung: Die Titel der Alben die nicht im Jahr 1979 herausgegeben wurden."
   ]
  },
  {
   "cell_type": "markdown",
   "metadata": {
    "deletable": false
   },
   "source": [
    "Und zum Schluss, ein Beispiel mit Namensräumen."
   ]
  },
  {
   "cell_type": "code",
   "execution_count": 36,
   "metadata": {},
   "outputs": [
    {
     "name": "stdout",
     "output_type": "stream",
     "text": [
      "[<Element {http://discography.org}discography at 0x7f820c9e2c08>]\n",
      "[<Element {http://discography.org}discography at 0x7f820c9e2c08>]\n",
      "[<Element {http://albums.org}albums at 0x7f81f16e2f88>]\n",
      "[<Element {http://albums.org}albums at 0x7f81f16e21c8>]\n"
     ]
    }
   ],
   "source": [
    "from lxml import etree as et\n",
    "\n",
    "d = et.fromstring(\"\"\"\n",
    "<disc:discography xmlns:disc=\"http://discography.org\" xmlns:alb=\"http://albums.org\" xmlns=\"http://default.org\">\n",
    "<alb:albums>\n",
    "<alb:album title=\"The Dark Side of the Moon\" alb:year=\"1973\"/>\n",
    "</alb:albums>\n",
    "</disc:discography>\n",
    "\"\"\")\n",
    "\n",
    "print(d.xpath('/disc:discography', namespaces={'disc': 'http://discography.org'}))\n",
    "print(d.xpath('/*[local-name() = \"discography\"]'))\n",
    "print(d.xpath('/disc:discography/alb:albums', namespaces={'disc': 'http://discography.org', 'alb': 'http://albums.org'}))\n",
    "print(d.xpath('/*[local-name() = \"discography\"]/*[local-name() = \"albums\"]'))"
   ]
  },
  {
   "cell_type": "markdown",
   "metadata": {},
   "source": [
    "Denken Sie sich nun ein eigenes XML Dokument aus und testen Sie Ihre XPath Abfragen."
   ]
  },
  {
   "cell_type": "code",
   "execution_count": 52,
   "metadata": {
    "deletable": false
   },
   "outputs": [
    {
     "name": "stdout",
     "output_type": "stream",
     "text": [
      "Tintentrift\n",
      "['Lange Laube', 'Tintentrift']\n"
     ]
    }
   ],
   "source": [
    "from lxml import etree as et\n",
    "\n",
    "d = et.fromstring(\"\"\"\n",
    "<addresses>\n",
    "<address>\n",
    "<streetname>Lange Laube</streetname>\n",
    "<streetnumber>43</streetnumber>\n",
    "<zip>30178</zip>\n",
    "<city>Hannover</city>\n",
    "</address>\n",
    "<address>\n",
    "<streetname>Tintentrift</streetname>\n",
    "<streetnumber>4b</streetnumber>\n",
    "<city>Hannover</city>\n",
    "<zip>30177</zip>\n",
    "</address>\n",
    "</addresses>\n",
    "\"\"\")\n",
    "\n",
    "# Meine XPath Abfragen ... \n",
    "print(d.xpath('//zip[text()=\"30177\"]/../streetname/text()')[0])\n",
    "print(d.xpath('//address[contains(streetname, \"n\")]/streetname/text()'))"
   ]
  }
 ],
 "metadata": {
  "kernelspec": {
   "display_name": "Python 3",
   "language": "python",
   "name": "python3"
  },
  "language_info": {
   "codemirror_mode": {
    "name": "ipython",
    "version": 3
   },
   "file_extension": ".py",
   "mimetype": "text/x-python",
   "name": "python",
   "nbconvert_exporter": "python",
   "pygments_lexer": "ipython3",
   "version": "3.6.4"
  }
 },
 "nbformat": 4,
 "nbformat_minor": 2
}
