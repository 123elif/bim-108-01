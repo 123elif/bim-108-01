{
 "cells": [
  {
   "cell_type": "markdown",
   "metadata": {
    "deletable": false
   },
   "source": [
    "# RDF: Fortgeschrittene Themen"
   ]
  },
  {
   "cell_type": "markdown",
   "metadata": {
    "deletable": false
   },
   "source": [
    "In dieser Übung werden wir uns einige fortgeschrittene Theme etwas genauer in der Praxis anschauen, insb. Datentypen, der *language tag*, Listen und Reifizierung in RDF. Wir beginnen mit Datetypen. Führen Sie den folgenden Codeblock aus."
   ]
  },
  {
   "cell_type": "code",
   "execution_count": null,
   "metadata": {
    "deletable": false
   },
   "outputs": [],
   "source": [
    "from rdflib import Literal, Namespace, BNode\n",
    "from rdflib.namespace import XSD\n",
    "\n",
    "def eq(l1, l2):\n",
    "    print(l1.eq(l2))"
   ]
  },
  {
   "cell_type": "markdown",
   "metadata": {
    "deletable": false
   },
   "source": [
    "Nun schauen Sie sich die folgende Literalvergleiche an und erklären Sie warum das Ergebnis wahr oder falsch ist."
   ]
  },
  {
   "cell_type": "code",
   "execution_count": null,
   "metadata": {
    "deletable": false
   },
   "outputs": [],
   "source": [
    "eq(Literal('1973'), Literal('1973'))\n",
    "# Erklärung: "
   ]
  },
  {
   "cell_type": "code",
   "execution_count": null,
   "metadata": {
    "deletable": false
   },
   "outputs": [],
   "source": [
    "eq(Literal('1973'), Literal('1979')) \n",
    "# Erklärung: "
   ]
  },
  {
   "cell_type": "code",
   "execution_count": null,
   "metadata": {
    "deletable": false
   },
   "outputs": [],
   "source": [
    "eq(Literal('1973'), Literal('1973', datatype=XSD.int)) \n",
    "# Erklärung: "
   ]
  },
  {
   "cell_type": "code",
   "execution_count": null,
   "metadata": {
    "deletable": false
   },
   "outputs": [],
   "source": [
    "eq(Literal('1973', datatype=XSD.integer), Literal('1973', datatype=XSD.int)) \n",
    "# Erklärung: "
   ]
  },
  {
   "cell_type": "code",
   "execution_count": null,
   "metadata": {
    "deletable": false
   },
   "outputs": [],
   "source": [
    "eq(Literal('1973', datatype=XSD.integer), Literal('1973', datatype=XSD.float)) \n",
    "# Erklärung: "
   ]
  },
  {
   "cell_type": "code",
   "execution_count": null,
   "metadata": {
    "deletable": false
   },
   "outputs": [],
   "source": [
    "eq(Literal('1973', datatype=XSD.integer), Literal('1973', datatype=XSD.gYear)) \n",
    "# Erklärung: "
   ]
  },
  {
   "cell_type": "markdown",
   "metadata": {
    "deletable": false
   },
   "source": [
    "Literale können auch einen sogenannten *language tag* enthalten.\n",
    "\n",
    "Schauen Sie sich die folgenden Literalvergleiche an und erklären Sie warum das Ergebnis wahr oder falsch ist."
   ]
  },
  {
   "cell_type": "code",
   "execution_count": null,
   "metadata": {
    "deletable": false
   },
   "outputs": [],
   "source": [
    "eq(Literal('The Wall'), Literal('The Wall'))\n",
    "# Erklärung: "
   ]
  },
  {
   "cell_type": "code",
   "execution_count": null,
   "metadata": {
    "deletable": false
   },
   "outputs": [],
   "source": [
    "eq(Literal('The Wall'), Literal('The Dark Side of the Moon'))\n",
    "# Erklärung: "
   ]
  },
  {
   "cell_type": "code",
   "execution_count": null,
   "metadata": {
    "deletable": false
   },
   "outputs": [],
   "source": [
    "eq(Literal('The Wall'), Literal('The Wall', lang='en'))\n",
    "# Erklärung:"
   ]
  },
  {
   "cell_type": "code",
   "execution_count": null,
   "metadata": {
    "deletable": false
   },
   "outputs": [],
   "source": [
    "eq(Literal('The Wall', lang='en'), Literal('The Wall', lang='en'))\n",
    "# Erklärung:"
   ]
  },
  {
   "cell_type": "code",
   "execution_count": null,
   "metadata": {
    "deletable": false
   },
   "outputs": [],
   "source": [
    "eq(Literal('The Wall', lang='en'), Literal('The Wall', lang='de'))\n",
    "# Erklärung:"
   ]
  },
  {
   "cell_type": "markdown",
   "metadata": {
    "deletable": false
   },
   "source": [
    "Schauen Sie sich die folgenden RDF Graphen an und erklären Sie wie es zur unterschiedlichen Grösse kommt."
   ]
  },
  {
   "cell_type": "code",
   "execution_count": null,
   "metadata": {
    "deletable": false
   },
   "outputs": [],
   "source": [
    "s = BNode()\n",
    "p = BNode()\n",
    "\n",
    "g0 = Graph()\n",
    "g0.add((s, p, Literal('The Wall')))\n",
    "g0.add((s, p, Literal('The Wall')))\n",
    "\n",
    "print('Länge g0: {} Tripel'.format(len(g0))) # Erklärung:\n",
    "\n",
    "g1 = Graph()\n",
    "g1.add((s, p, Literal('The Wall', lang='en')))\n",
    "g1.add((s, p, Literal('The Wall', lang='de')))\n",
    "\n",
    "print('Länge g1: {} Tripel'.format(len(g1))) # Erklärung:\n",
    "\n",
    "g2 = Graph()\n",
    "g2.add((s, p, Literal('The Wall', lang='en')))\n",
    "g2.add((s, p, Literal('The Wall', lang='en')))\n",
    "\n",
    "print('Länge g2: {} Tripel'.format(len(g2))) # Erklärung:\n",
    "\n",
    "g3 = Graph()\n",
    "g3.add((s, p, Literal('The Wall')))\n",
    "g3.add((s, p, Literal('The Dark Side of the Moon')))\n",
    "\n",
    "print('Länge g3: {} Tripel'.format(len(g3))) # Erklärung:\n",
    "\n",
    "g4 = Graph()\n",
    "g4.add((s, p, Literal('1979')))\n",
    "g4.add((s, p, Literal('1979', datatype=XSD.int)))\n",
    "\n",
    "print('Länge g4: {} Tripel'.format(len(g4))) # Erklärung:\n",
    "\n",
    "g5 = Graph()\n",
    "g5.add((s, p, Literal('1973', datatype=XSD.int)))\n",
    "g5.add((s, p, Literal('1973', datatype=XSD.int)))\n",
    "\n",
    "print('Länge g5: {} Tripel'.format(len(g5))) # Erklärung:"
   ]
  },
  {
   "cell_type": "markdown",
   "metadata": {
    "deletable": false
   },
   "source": [
    "Vervollständigen Sie nun das RDF mit Datentypen und einem *language tag* für Titel, und überprüfen Sie ob das RDF fehlerfrei ist."
   ]
  },
  {
   "cell_type": "code",
   "execution_count": null,
   "metadata": {
    "deletable": false
   },
   "outputs": [],
   "source": [
    "from rdflib import Graph, Namespace, BNode, URIRef, Literal\n",
    "from rdflib.namespace import RDF, XSD\n",
    "from shortid import ShortId\n",
    "\n",
    "rdf = \"\"\"\n",
    "@prefix ex: <http://example.org#> .\n",
    "@prefix rdf: <http://www.w3.org/1999/02/22-rdf-syntax-ns#> .\n",
    "@prefix rdfs: <http://www.w3.org/2000/01/rdf-schema#> .\n",
    "@prefix xml: <http://www.w3.org/XML/1998/namespace> .\n",
    "@prefix xsd: <http://www.w3.org/2001/XMLSchema#> .\n",
    "\n",
    "ex:dobtvAwc a ex:Album ;\n",
    "    ex:title \"The Dark Side of the Moon\"@... ;\n",
    "    ex:title \"Die Dunkle Seite des Mondes\"@... ;\n",
    "    ex:label \"Harvest, EMI\"^^xsd:... ;\n",
    "    ex:released [ \n",
    "      ex:day \"16\"^^xsd:... ;\n",
    "      ex:month \"03\"^^xsd:... ;\n",
    "      ex:year \"1973\"^^xsd:... ] .\n",
    "\"\"\"\n",
    "\n",
    "g = Graph()\n",
    "r = g.parse(data=rdf, format='turtle')\n",
    "\n",
    "print(len(g))"
   ]
  },
  {
   "cell_type": "markdown",
   "metadata": {
    "deletable": false
   },
   "source": [
    "Schreiben Sie nun eine *geschlossene* Einkaufsliste in beliebiger RDF Syntax, lesen das RDF mit `g.parse()` ein und geben Sie dann die Grösse des Graphen aus. Die benötigten Befehle können Sie aus den obigen Beispielen entnehmen."
   ]
  },
  {
   "cell_type": "code",
   "execution_count": null,
   "metadata": {
    "deletable": false
   },
   "outputs": [],
   "source": []
  }
 ],
 "metadata": {
  "kernelspec": {
   "display_name": "Python 3",
   "language": "python",
   "name": "python3"
  },
  "language_info": {
   "codemirror_mode": {
    "name": "ipython",
    "version": 3
   },
   "file_extension": ".py",
   "mimetype": "text/x-python",
   "name": "python",
   "nbconvert_exporter": "python",
   "pygments_lexer": "ipython3",
   "version": "3.6.4"
  }
 },
 "nbformat": 4,
 "nbformat_minor": 2
}
