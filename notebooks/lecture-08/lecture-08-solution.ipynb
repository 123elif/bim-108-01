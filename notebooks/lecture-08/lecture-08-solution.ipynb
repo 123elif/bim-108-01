{
 "cells": [
  {
   "cell_type": "markdown",
   "metadata": {
    "deletable": false
   },
   "source": [
    "# RDF: Fortgeschrittene Themen"
   ]
  },
  {
   "cell_type": "markdown",
   "metadata": {
    "deletable": false
   },
   "source": [
    "In dieser Übung werden wir uns einige fortgeschrittene Themen etwas genauer in der Praxis anschauen, insb. Datentypen, der *language tag*, Listen und Reifizierung in RDF. Wir beginnen mit Datetypen. Führen Sie den folgenden Codeblock aus."
   ]
  },
  {
   "cell_type": "code",
   "execution_count": 1,
   "metadata": {
    "deletable": false
   },
   "outputs": [],
   "source": [
    "#!pip install rdflib"
   ]
  },
  {
   "cell_type": "code",
   "execution_count": 2,
   "metadata": {
    "deletable": false
   },
   "outputs": [],
   "source": [
    "from rdflib import Graph, Literal, BNode\n",
    "from rdflib.namespace import XSD\n",
    "\n",
    "def eq(l1, l2):\n",
    "    print(l1.eq(l2))"
   ]
  },
  {
   "cell_type": "markdown",
   "metadata": {
    "deletable": false
   },
   "source": [
    "Nun schauen Sie sich die folgende Literalvergleiche an und erklären Sie warum das Ergebnis wahr oder falsch ist."
   ]
  },
  {
   "cell_type": "code",
   "execution_count": 3,
   "metadata": {
    "deletable": false
   },
   "outputs": [
    {
     "name": "stdout",
     "output_type": "stream",
     "text": [
      "True\n"
     ]
    }
   ],
   "source": [
    "eq(Literal('1973'), Literal('1973'))\n",
    "# Erklärung: Die beiden Literale sind gleich"
   ]
  },
  {
   "cell_type": "code",
   "execution_count": 4,
   "metadata": {
    "deletable": false
   },
   "outputs": [
    {
     "name": "stdout",
     "output_type": "stream",
     "text": [
      "False\n"
     ]
    }
   ],
   "source": [
    "eq(Literal('1973'), Literal('1979')) \n",
    "# Erklärung: Der Wert der beiden Literale ist nicht gleicht"
   ]
  },
  {
   "cell_type": "code",
   "execution_count": 5,
   "metadata": {
    "deletable": false
   },
   "outputs": [
    {
     "name": "stdout",
     "output_type": "stream",
     "text": [
      "False\n"
     ]
    }
   ],
   "source": [
    "eq(Literal('1973'), Literal('1973', datatype=XSD.int)) \n",
    "# Erklärung: Die Literale sind ungleich, das zweite ist ein typisiertes Literal"
   ]
  },
  {
   "cell_type": "code",
   "execution_count": 6,
   "metadata": {
    "deletable": false
   },
   "outputs": [
    {
     "name": "stdout",
     "output_type": "stream",
     "text": [
      "True\n"
     ]
    }
   ],
   "source": [
    "eq(Literal('1973', datatype=XSD.integer), Literal('1973', datatype=XSD.int)) \n",
    "# Erklärung: Beides sind typisierte Literale mit gleichem Wert und Datentyp"
   ]
  },
  {
   "cell_type": "code",
   "execution_count": 7,
   "metadata": {
    "deletable": false
   },
   "outputs": [
    {
     "name": "stdout",
     "output_type": "stream",
     "text": [
      "True\n"
     ]
    }
   ],
   "source": [
    "eq(Literal('1973', datatype=XSD.integer), Literal('1973', datatype=XSD.float)) \n",
    "# Erklärung: Zwei typisierte Literale mit gleichem Wert und vergleichbarem Datentyp"
   ]
  },
  {
   "cell_type": "code",
   "execution_count": 8,
   "metadata": {
    "deletable": false
   },
   "outputs": [
    {
     "name": "stdout",
     "output_type": "stream",
     "text": [
      "False\n"
     ]
    }
   ],
   "source": [
    "eq(Literal('1973', datatype=XSD.integer), Literal('1973', datatype=XSD.gYear)) \n",
    "# Erklärung: Wertgleiche Literale allerdings mit einem nicht vergleichbarem Datentyp"
   ]
  },
  {
   "cell_type": "markdown",
   "metadata": {
    "deletable": false
   },
   "source": [
    "Untypisierte Literale können auch einen sogenannten *language tag* enthalten.\n",
    "\n",
    "Schauen Sie sich die folgenden Literalvergleiche an und erklären Sie warum das Ergebnis wahr oder falsch ist."
   ]
  },
  {
   "cell_type": "code",
   "execution_count": 9,
   "metadata": {
    "deletable": false
   },
   "outputs": [
    {
     "name": "stdout",
     "output_type": "stream",
     "text": [
      "True\n"
     ]
    }
   ],
   "source": [
    "eq(Literal('The Wall'), Literal('The Wall'))\n",
    "# Erklärung: Gleiche Literale"
   ]
  },
  {
   "cell_type": "code",
   "execution_count": 10,
   "metadata": {
    "deletable": false
   },
   "outputs": [
    {
     "name": "stdout",
     "output_type": "stream",
     "text": [
      "False\n"
     ]
    }
   ],
   "source": [
    "eq(Literal('The Wall'), Literal('The Dark Side of the Moon'))\n",
    "# Erklärung: Wertungleiche Literale"
   ]
  },
  {
   "cell_type": "code",
   "execution_count": 11,
   "metadata": {
    "deletable": false
   },
   "outputs": [
    {
     "name": "stdout",
     "output_type": "stream",
     "text": [
      "False\n"
     ]
    }
   ],
   "source": [
    "eq(Literal('The Wall'), Literal('The Wall', lang='en'))\n",
    "# Erklärung: Wertgleiche Literale wobei das zweite ein language tag definiert"
   ]
  },
  {
   "cell_type": "code",
   "execution_count": 12,
   "metadata": {
    "deletable": false
   },
   "outputs": [
    {
     "name": "stdout",
     "output_type": "stream",
     "text": [
      "True\n"
     ]
    }
   ],
   "source": [
    "eq(Literal('The Wall', lang='en'), Literal('The Wall', lang='en'))\n",
    "# Erklärung: Wertgleiche Literale, inklusive language tag"
   ]
  },
  {
   "cell_type": "code",
   "execution_count": 13,
   "metadata": {
    "deletable": false
   },
   "outputs": [
    {
     "name": "stdout",
     "output_type": "stream",
     "text": [
      "False\n"
     ]
    }
   ],
   "source": [
    "eq(Literal('The Wall', lang='en'), Literal('The Wall', lang='de'))\n",
    "# Erklärung: Wert gleiche Literale, nicht aber das language tag"
   ]
  },
  {
   "cell_type": "markdown",
   "metadata": {
    "deletable": false
   },
   "source": [
    "Schauen Sie sich die folgenden RDF Graphen an und erklären Sie wie es zur unterschiedlichen Grösse kommt."
   ]
  },
  {
   "cell_type": "code",
   "execution_count": 14,
   "metadata": {
    "deletable": false
   },
   "outputs": [
    {
     "name": "stdout",
     "output_type": "stream",
     "text": [
      "Länge g0: 1 Tripel\n",
      "Länge g1: 2 Tripel\n",
      "Länge g2: 1 Tripel\n",
      "Länge g3: 2 Tripel\n",
      "Länge g4: 2 Tripel\n",
      "Länge g5: 1 Tripel\n"
     ]
    }
   ],
   "source": [
    "s = BNode()\n",
    "p = BNode()\n",
    "\n",
    "g0 = Graph()\n",
    "g0.add((s, p, Literal('The Wall')))\n",
    "g0.add((s, p, Literal('The Wall')))\n",
    "\n",
    "print('Länge g0: {} Tripel'.format(len(g0))) # Erklärung: Gleiche Tripel, werden zwar zweimal dem Graphen zugefüht nicht aber mehrfach aufgeführt (Menge!)\n",
    "\n",
    "g1 = Graph()\n",
    "g1.add((s, p, Literal('The Wall', lang='en')))\n",
    "g1.add((s, p, Literal('The Wall', lang='de')))\n",
    "\n",
    "print('Länge g1: {} Tripel'.format(len(g1))) # Erklärung: Ungleiche Tripel, werden beide aufgeführt\n",
    "\n",
    "g2 = Graph()\n",
    "g2.add((s, p, Literal('The Wall', lang='en')))\n",
    "g2.add((s, p, Literal('The Wall', lang='en')))\n",
    "\n",
    "print('Länge g2: {} Tripel'.format(len(g2))) # Erklärung: Gleiche Tripel, werden nur einmal aufgeführt\n",
    "\n",
    "g3 = Graph()\n",
    "g3.add((s, p, Literal('The Wall')))\n",
    "g3.add((s, p, Literal('The Dark Side of the Moon')))\n",
    "\n",
    "print('Länge g3: {} Tripel'.format(len(g3))) # Erklärung: Ungleiche Tripel, werden beide aufgeführt\n",
    "\n",
    "g4 = Graph()\n",
    "g4.add((s, p, Literal('1979')))\n",
    "g4.add((s, p, Literal('1979', datatype=XSD.int)))\n",
    "\n",
    "print('Länge g4: {} Tripel'.format(len(g4))) # Erklärung: Ungleiche Tripel, werden beide aufgeführt\n",
    "\n",
    "g5 = Graph()\n",
    "g5.add((s, p, Literal('1973', datatype=XSD.int)))\n",
    "g5.add((s, p, Literal('1973', datatype=XSD.int)))\n",
    "\n",
    "print('Länge g5: {} Tripel'.format(len(g5))) # Erklärung: Gleiche Tripel, werden nur einmal aufgeführt"
   ]
  },
  {
   "cell_type": "markdown",
   "metadata": {
    "deletable": false
   },
   "source": [
    "Vervollständigen Sie nun das RDF mit Datentypen und einem *language tag* für Titel, und überprüfen Sie ob das RDF fehlerfrei ist."
   ]
  },
  {
   "cell_type": "code",
   "execution_count": 15,
   "metadata": {
    "deletable": false
   },
   "outputs": [
    {
     "name": "stdout",
     "output_type": "stream",
     "text": [
      "8\n"
     ]
    }
   ],
   "source": [
    "from rdflib import Graph\n",
    "\n",
    "rdf = \"\"\"\n",
    "@prefix ex: <http://example.org#> .\n",
    "@prefix rdf: <http://www.w3.org/1999/02/22-rdf-syntax-ns#> .\n",
    "@prefix rdfs: <http://www.w3.org/2000/01/rdf-schema#> .\n",
    "@prefix xml: <http://www.w3.org/XML/1998/namespace> .\n",
    "@prefix xsd: <http://www.w3.org/2001/XMLSchema#> .\n",
    "\n",
    "ex:dobtvAwc a ex:Album ;\n",
    "    ex:title \"The Dark Side of the Moon\"@en ;\n",
    "    ex:title \"Die Dunkle Seite des Mondes\"@de ;\n",
    "    ex:label \"Harvest, EMI\"^^xsd:string ;\n",
    "    ex:released [ \n",
    "      ex:day \"16\"^^xsd:int ;\n",
    "      ex:month \"03\"^^xsd:int ;\n",
    "      ex:year \"1973\"^^xsd:gYear ] .\n",
    "\"\"\"\n",
    "\n",
    "g = Graph()\n",
    "r = g.parse(data=rdf, format='turtle')\n",
    "\n",
    "print(len(g))"
   ]
  },
  {
   "cell_type": "markdown",
   "metadata": {
    "deletable": false
   },
   "source": [
    "Schreiben Sie nun eine *geschlossene* Einkaufsliste in beliebiger RDF Syntax, lesen Sie das RDF mit `g.parse()` ein und geben Sie dann die Grösse des Graphen aus. Die benötigten Pythonbefehle können Sie aus den obigen Beispielen entnehmen."
   ]
  },
  {
   "cell_type": "code",
   "execution_count": 16,
   "metadata": {
    "deletable": false
   },
   "outputs": [
    {
     "name": "stdout",
     "output_type": "stream",
     "text": [
      "8\n",
      "\n",
      "--- Die ungekürzte Form einer geschlossenen Liste, hier in RDF/XML ---\n",
      "\n",
      "<?xml version=\"1.0\" encoding=\"UTF-8\"?>\n",
      "<rdf:RDF\n",
      "   xmlns:ex=\"http://example.org#\"\n",
      "   xmlns:rdf=\"http://www.w3.org/1999/02/22-rdf-syntax-ns#\"\n",
      ">\n",
      "  <rdf:Description rdf:about=\"http://example.org#dobtvAwc\">\n",
      "    <rdf:type rdf:resource=\"http://example.org#ShoppingList\"/>\n",
      "    <ex:items rdf:nodeID=\"f74784682c74c43e8a456dbbc53ef0f77b1\"/>\n",
      "  </rdf:Description>\n",
      "  <rdf:Description rdf:nodeID=\"f74784682c74c43e8a456dbbc53ef0f77b3\">\n",
      "    <rdf:first rdf:resource=\"http://example.org#oranges\"/>\n",
      "    <rdf:rest rdf:resource=\"http://www.w3.org/1999/02/22-rdf-syntax-ns#nil\"/>\n",
      "  </rdf:Description>\n",
      "  <rdf:Description rdf:nodeID=\"f74784682c74c43e8a456dbbc53ef0f77b1\">\n",
      "    <rdf:rest rdf:nodeID=\"f74784682c74c43e8a456dbbc53ef0f77b2\"/>\n",
      "    <rdf:first rdf:resource=\"http://example.org#banana\"/>\n",
      "  </rdf:Description>\n",
      "  <rdf:Description rdf:nodeID=\"f74784682c74c43e8a456dbbc53ef0f77b2\">\n",
      "    <rdf:first rdf:resource=\"http://example.org#apples\"/>\n",
      "    <rdf:rest rdf:nodeID=\"f74784682c74c43e8a456dbbc53ef0f77b3\"/>\n",
      "  </rdf:Description>\n",
      "</rdf:RDF>\n",
      "\n"
     ]
    }
   ],
   "source": [
    "from rdflib import Graph\n",
    "\n",
    "rdf = \"\"\"\n",
    "@prefix ex: <http://example.org#> .\n",
    "@prefix rdf: <http://www.w3.org/1999/02/22-rdf-syntax-ns#> .\n",
    "@prefix rdfs: <http://www.w3.org/2000/01/rdf-schema#> .\n",
    "@prefix xml: <http://www.w3.org/XML/1998/namespace> .\n",
    "@prefix xsd: <http://www.w3.org/2001/XMLSchema#> .\n",
    "\n",
    "ex:dobtvAwc a ex:ShoppingList ;\n",
    "    ex:items (ex:banana ex:apples ex:oranges) .\n",
    "\"\"\"\n",
    "\n",
    "g = Graph()\n",
    "r = g.parse(data=rdf, format='turtle')\n",
    "\n",
    "print(len(g))\n",
    "print('\\n--- Die ungekürzte Form einer geschlossenen Liste, hier in RDF/XML ---\\n')\n",
    "print(g.serialize(format='xml').decode('utf-8'))"
   ]
  }
 ],
 "metadata": {
  "kernelspec": {
   "display_name": "Python 3",
   "language": "python",
   "name": "python3"
  },
  "language_info": {
   "codemirror_mode": {
    "name": "ipython",
    "version": 3
   },
   "file_extension": ".py",
   "mimetype": "text/x-python",
   "name": "python",
   "nbconvert_exporter": "python",
   "pygments_lexer": "ipython3",
   "version": "3.6.4"
  }
 },
 "nbformat": 4,
 "nbformat_minor": 2
}
