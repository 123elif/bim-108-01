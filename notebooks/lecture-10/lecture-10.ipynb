{
 "cells": [
  {
   "cell_type": "markdown",
   "metadata": {
    "deletable": false
   },
   "source": [
    "# SPARQL: Fortgeschrittene Themen"
   ]
  },
  {
   "cell_type": "markdown",
   "metadata": {
    "deletable": false
   },
   "source": [
    "In dieser Übung schauen wir uns einige der fortgeschrittenen Themen über SPARQL etwas im Detail an. Wie bisher, verwenden wir RDF welches unsere Pink Floyd Diskographie beschreibt."
   ]
  },
  {
   "cell_type": "code",
   "execution_count": null,
   "metadata": {
    "deletable": false
   },
   "outputs": [],
   "source": [
    "import pandas as pd\n",
    "from io import BytesIO\n",
    "from io import StringIO\n",
    "from rdflib import Graph\n",
    "from rdflib.plugins.sparql.results.csvresults import CSVResultSerializer\n",
    "from IPython.display import display\n",
    "\n",
    "rdf = \"\"\"\n",
    "@prefix ex: <http://example.org#> .\n",
    "@prefix rdf: <http://www.w3.org/1999/02/22-rdf-syntax-ns#> .\n",
    "@prefix xsd: <http://www.w3.org/2001/XMLSchema#> .\n",
    "\n",
    "[] a ex:Album ;\n",
    "   ex:title \"The Dark Side of the Moon\"^^xsd:string ;\n",
    "   ex:label \"Harvest, EMI\"@en ;\n",
    "   ex:released [ \n",
    "     ex:day \"16\"^^xsd:int ;\n",
    "     ex:month \"03\"^^xsd:int ;\n",
    "     ex:year \"1973\"^^xsd:int \n",
    "   ] .\n",
    "   \n",
    "[] a ex:Album ;\n",
    "   ex:title \"The Wall\"^^xsd:string ;\n",
    "   ex:label \"Harvest, EMI\"@en ;\n",
    "   ex:released [ \n",
    "     ex:day \"30\"^^xsd:int ;\n",
    "     ex:month \"11\"^^xsd:int ;\n",
    "     ex:year \"1979\"^^xsd:int \n",
    "   ] .\n",
    "\n",
    "[] a ex:Single ;\n",
    "   ex:title \"What God Wants, Part 1\"^^xsd:string ;\n",
    "   ex:author [\n",
    "     ex:firstname \"Roger\" ;\n",
    "     ex:lastname \"Waters\"\n",
    "   ] ;\n",
    "   ex:released [ \n",
    "     ex:year \"1992\"^^xsd:int \n",
    "   ] .\n",
    "\"\"\"\n",
    "\n",
    "g = Graph()\n",
    "\n",
    "r = g.parse(data=rdf, format='turtle')\n",
    "\n",
    "def query(q):\n",
    "    serializer = CSVResultSerializer(g.query(q))\n",
    "    output = BytesIO()\n",
    "    serializer.serialize(output)\n",
    "    display(pd.read_csv(StringIO(output.getvalue().decode())))"
   ]
  },
  {
   "cell_type": "code",
   "execution_count": null,
   "metadata": {
    "deletable": false
   },
   "outputs": [],
   "source": [
    "q = \"\"\"\n",
    "PREFIX ex: <http://example.org#> \n",
    "PREFIX rdf: <http://www.w3.org/1999/02/22-rdf-syntax-ns#> \n",
    "PREFIX xsd: <http://www.w3.org/2001/XMLSchema#> \n",
    "\n",
    "CONSTRUCT {\n",
    "  ?album ex:band \"Pink Floyd\" .\n",
    "  ?album ex:title ?title .\n",
    "} WHERE {\n",
    "  ?album rdf:type ex:Album .\n",
    "  ?album ex:title ?title .\n",
    "  FILTER (?title = \"The Dark Side of the Moon\"^^xsd:string || ?title = \"The Wall\")\n",
    "}\n",
    "\"\"\"\n",
    "\n",
    "qr = g.query(q)\n",
    "\n",
    "gr = Graph()\n",
    "gr.bind('ex', 'http://example.org#')\n",
    "\n",
    "for row in qr:\n",
    "    gr.add(row)\n",
    "\n",
    "print(gr.serialize(format='turtle').decode('utf-8'))\n",
    "\n",
    "# Erklären Sie die CONSTRUCT Abfrage: \n",
    "# Erklären Sie das Resultat: "
   ]
  },
  {
   "cell_type": "code",
   "execution_count": null,
   "metadata": {
    "deletable": false
   },
   "outputs": [],
   "source": [
    "q = \"\"\"\n",
    "PREFIX ex: <http://example.org#> \n",
    "PREFIX rdf: <http://www.w3.org/1999/02/22-rdf-syntax-ns#> \n",
    "\n",
    "ASK {\n",
    "  ?single rdf:type ex:Single .\n",
    "}\n",
    "\"\"\"\n",
    "\n",
    "qr = g.query(q)\n",
    "\n",
    "for row in qr:\n",
    "    print(row)\n",
    "    \n",
    "# Erklären Sie die ASK Abfrage: \n",
    "# Warum ist das Resultat 'True': "
   ]
  },
  {
   "cell_type": "code",
   "execution_count": null,
   "metadata": {
    "deletable": false
   },
   "outputs": [],
   "source": [
    "q = \"\"\"\n",
    "PREFIX ex: <http://example.org#> \n",
    "\n",
    "ASK {\n",
    "  [] ex:author [\n",
    "     ex:lastname \"Water\"\n",
    "  ]\n",
    "}\n",
    "\"\"\"\n",
    "\n",
    "qr = g.query(q)\n",
    "\n",
    "for row in qr:\n",
    "    print(row)\n",
    "    \n",
    "# Erklären Sie die ASK Abfrage: \n",
    "# Warum ist das Resultat 'False': "
   ]
  },
  {
   "cell_type": "code",
   "execution_count": null,
   "metadata": {
    "deletable": false
   },
   "outputs": [],
   "source": [
    "q = \"\"\"\n",
    "PREFIX ex: <http://example.org#> \n",
    "PREFIX rdf: <http://www.w3.org/1999/02/22-rdf-syntax-ns#>\n",
    "\n",
    "SELECT ?title \n",
    "WHERE { \n",
    "  [] ex:title ?title ;\n",
    "     ex:released [ ex:year ?year ]\n",
    "}\n",
    "ORDER BY (?year)\n",
    "\"\"\"\n",
    "\n",
    "query(q)\n",
    "\n",
    "# Erklären Sie die Abfrage: \n",
    "# In welcher Reihenfolge werden die Resultate angezeigt? Antwort:  "
   ]
  },
  {
   "cell_type": "code",
   "execution_count": null,
   "metadata": {
    "deletable": false
   },
   "outputs": [],
   "source": [
    "q = \"\"\"\n",
    "PREFIX ex: <http://example.org#> \n",
    "PREFIX rdf: <http://www.w3.org/1999/02/22-rdf-syntax-ns#>\n",
    "\n",
    "SELECT ?title \n",
    "WHERE { \n",
    "  [] ex:title ?title ;\n",
    "     ex:released [ ex:year ?year ]\n",
    "}\n",
    "ORDER BY DESC(?year)\n",
    "\"\"\"\n",
    "\n",
    "query(q)\n",
    "\n",
    "# Inwiefern ist dieses Resultat anders als das letzte? Antwort:  "
   ]
  },
  {
   "cell_type": "code",
   "execution_count": null,
   "metadata": {
    "deletable": false
   },
   "outputs": [],
   "source": [
    "q = \"\"\"\n",
    "PREFIX ex: <http://example.org#> \n",
    "PREFIX rdf: <http://www.w3.org/1999/02/22-rdf-syntax-ns#>\n",
    "\n",
    "SELECT ?title ?year\n",
    "WHERE { \n",
    "  [] ex:title ?title ;\n",
    "     ex:released [ ex:year ?year ]\n",
    "}\n",
    "ORDER BY DESC(?year) LIMIT 1 OFFSET 0\n",
    "\"\"\"\n",
    "\n",
    "query(q)\n",
    "\n",
    "q = \"\"\"\n",
    "PREFIX ex: <http://example.org#> \n",
    "PREFIX rdf: <http://www.w3.org/1999/02/22-rdf-syntax-ns#>\n",
    "\n",
    "SELECT ?title ?year\n",
    "WHERE { \n",
    "  [] ex:title ?title ;\n",
    "     ex:released [ ex:year ?year ]\n",
    "}\n",
    "ORDER BY DESC(?year) LIMIT 1 OFFSET 1\n",
    "\"\"\"\n",
    "\n",
    "query(q)\n",
    "\n",
    "q = \"\"\"\n",
    "PREFIX ex: <http://example.org#> \n",
    "PREFIX rdf: <http://www.w3.org/1999/02/22-rdf-syntax-ns#>\n",
    "\n",
    "SELECT ?title ?year\n",
    "WHERE { \n",
    "  [] ex:title ?title ;\n",
    "     ex:released [ ex:year ?year ]\n",
    "}\n",
    "ORDER BY DESC(?year) LIMIT 1 OFFSET 2\n",
    "\"\"\"\n",
    "\n",
    "query(q)\n",
    "\n",
    "# Wieviele Abfragen gibt es hier? Antwort: \n",
    "# Erklären Sie das Resultat, insbesondere auch die jeweilige Anzahl Resultate: "
   ]
  },
  {
   "cell_type": "markdown",
   "metadata": {
    "deletable": false
   },
   "source": [
    "Ähnlich wie in der Vorlesung für DBpedia gezeigt, stellen wir als nächstes einige Abfragen an den SPARQL Endpoint [http://dblp.l3s.de/d2r/snorql/](http://dblp.l3s.de/d2r/snorql/). Dieser liefert bibliographische Information der [dblp](https://dblp.uni-trier.de/) (Digital Bibliography & Library Project) und ist vom [Forschungszentrum L3S](https://www.l3s.de/de/home) betrieben."
   ]
  },
  {
   "cell_type": "code",
   "execution_count": null,
   "metadata": {
    "deletable": false
   },
   "outputs": [],
   "source": [
    "# !pip install SPARQLWrapper\n",
    "\n",
    "import pandas as pd\n",
    "from io import StringIO\n",
    "from SPARQLWrapper import SPARQLWrapper, JSON\n",
    "\n",
    "pd.set_option('display.max_colwidth', 200)\n",
    "\n",
    "prefixes = \"\"\"\n",
    "PREFIX swrc: <http://swrc.ontoware.org/ontology#>\n",
    "PREFIX rdf: <http://www.w3.org/1999/02/22-rdf-syntax-ns#>\n",
    "PREFIX owl: <http://www.w3.org/2002/07/owl#>\n",
    "PREFIX d2r: <http://sites.wiwiss.fu-berlin.de/suhl/bizer/d2r-server/config.rdf#>\n",
    "PREFIX xsd: <http://www.w3.org/2001/XMLSchema#>\n",
    "PREFIX dcterms: <http://purl.org/dc/terms/>\n",
    "PREFIX rdfs: <http://www.w3.org/2000/01/rdf-schema#>\n",
    "PREFIX map: <file:///home/diederich/d2r-server-0.3.2/dblp-mapping.n3#>\n",
    "PREFIX foaf: <http://xmlns.com/foaf/0.1/>\n",
    "PREFIX dc: <http://purl.org/dc/elements/1.1/>\n",
    "\"\"\"\n",
    "\n",
    "def query(endpoint, sparql):\n",
    "    sw = SPARQLWrapper(endpoint)\n",
    "    sw.setQuery('{}{}'.format(prefixes, sparql))\n",
    "    sw.setReturnFormat(JSON)\n",
    "    json = sw.query().convert()\n",
    "    variables = json['head']['vars']\n",
    "    bindings = json['results']['bindings']\n",
    "    data = {}\n",
    "    for variable in variables:\n",
    "        values = []\n",
    "        for binding in bindings:\n",
    "            values.append(binding[variable]['value'])\n",
    "        data[variable] = values\n",
    "    df = pd.DataFrame(data=data)\n",
    "    display(df)"
   ]
  },
  {
   "cell_type": "code",
   "execution_count": null,
   "metadata": {
    "deletable": false
   },
   "outputs": [],
   "source": [
    "query('http://dblp.l3s.de/d2r/sparql', \"\"\"\n",
    "SELECT ?title ?issued ?url\n",
    "WHERE {\n",
    "  [] dc:creator [ rdfs:label \"Bijan Parsia\" ] ;\n",
    "     dc:title ?title ;\n",
    "     dcterms:issued ?issued ;\n",
    "     foaf:homepage ?url\n",
    "}\n",
    "ORDER BY DESC(?issued)\n",
    "LIMIT 10\n",
    "\"\"\")\n",
    "\n",
    "# Erklären Sie was hier geschieht: "
   ]
  }
 ],
 "metadata": {
  "kernelspec": {
   "display_name": "Python 3",
   "language": "python",
   "name": "python3"
  },
  "language_info": {
   "codemirror_mode": {
    "name": "ipython",
    "version": 3
   },
   "file_extension": ".py",
   "mimetype": "text/x-python",
   "name": "python",
   "nbconvert_exporter": "python",
   "pygments_lexer": "ipython3",
   "version": "3.6.4"
  }
 },
 "nbformat": 4,
 "nbformat_minor": 2
}
