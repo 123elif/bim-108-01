{
 "cells": [
  {
   "cell_type": "markdown",
   "metadata": {
    "deletable": false
   },
   "source": [
    "# RDF Syntax: Eine Breite Wahl"
   ]
  },
  {
   "cell_type": "markdown",
   "metadata": {
    "deletable": false
   },
   "source": [
    "In der Vorlesung haben wir dargestellt wie man einen RDF Graphen als Tripelmenge mittels verschiedenen RDF Syntaxen in Textdateien als Zeichenfolge serialisieren kann. Dies ermöglicht das maschinelle Lesen und Speichern von RDF. In dieser Übung werden Sie die verschiedenen RDF Syntaxen anhand Beispielen näher kennenlernen. Wir verwenden hier die Python Programmiersprache um RDF zu lesen, schreien, und verarbeiten. Wir beginnen mit dem Lesen von RDF in N-Triples Syntax und das Ausgeben der einzelnen Tripel."
   ]
  },
  {
   "cell_type": "code",
   "execution_count": null,
   "metadata": {
    "collapsed": true,
    "deletable": false
   },
   "outputs": [],
   "source": [
    "!pip install rdflib"
   ]
  },
  {
   "cell_type": "code",
   "execution_count": 1,
   "metadata": {
    "deletable": false
   },
   "outputs": [
    {
     "name": "stdout",
     "output_type": "stream",
     "text": [
      "subject = http://example.org#Wako5UJ_7t\n",
      "  predicate = http://example.org#title\n",
      "    object = The Dark Side of the Moon\n",
      "subject = http://example.org#Wako5UJ_7t\n",
      "  predicate = http://www.w3.org/1999/02/22-rdf-syntax-ns#type\n",
      "    object = http://example.org#Album\n"
     ]
    }
   ],
   "source": [
    "from rdflib import Graph\n",
    "\n",
    "rdf = \"\"\"\n",
    "<http://example.org#Wako5UJ_7t> <http://www.w3.org/1999/02/22-rdf-syntax-ns#type> <http://example.org#Album> .\n",
    "<http://example.org#Wako5UJ_7t> <http://example.org#title> \"The Dark Side of the Moon\" .\n",
    "\"\"\"\n",
    "\n",
    "g = Graph()\n",
    "r = g.parse(data=rdf, format='nt')\n",
    "\n",
    "for s, p, o in g:\n",
    "    print('subject = {}'.format(s))\n",
    "    print('  predicate = {}'.format(p))\n",
    "    print('    object = {}'.format(o))"
   ]
  },
  {
   "cell_type": "markdown",
   "metadata": {
    "deletable": false
   },
   "source": [
    "Was erwarten Sie hier als Resultat? Wieviele Tripel enthält die Tripelmenge?"
   ]
  },
  {
   "cell_type": "code",
   "execution_count": 2,
   "metadata": {
    "deletable": false
   },
   "outputs": [
    {
     "name": "stdout",
     "output_type": "stream",
     "text": [
      "2\n"
     ]
    }
   ],
   "source": [
    "print(len(g))"
   ]
  },
  {
   "cell_type": "markdown",
   "metadata": {
    "deletable": false
   },
   "source": [
    "Nun serialisieren wir den Graphen mittels einer anderen Syntax, z.B. Turtle."
   ]
  },
  {
   "cell_type": "code",
   "execution_count": 3,
   "metadata": {
    "deletable": false
   },
   "outputs": [
    {
     "name": "stdout",
     "output_type": "stream",
     "text": [
      "@prefix ns1: <http://example.org#> .\n",
      "@prefix rdf: <http://www.w3.org/1999/02/22-rdf-syntax-ns#> .\n",
      "@prefix rdfs: <http://www.w3.org/2000/01/rdf-schema#> .\n",
      "@prefix xml: <http://www.w3.org/XML/1998/namespace> .\n",
      "@prefix xsd: <http://www.w3.org/2001/XMLSchema#> .\n",
      "\n",
      "ns1:Wako5UJ_7t a ns1:Album ;\n",
      "    ns1:title \"The Dark Side of the Moon\" .\n",
      "\n",
      "\n"
     ]
    }
   ],
   "source": [
    "print(g.serialize(format='turtle').decode('utf-8'))"
   ]
  },
  {
   "cell_type": "markdown",
   "metadata": {
    "deletable": false
   },
   "source": [
    "Der Präfix (*prefix*) `ns1:` für `http://example.org#` ist zwar technisch OK aber er ist nicht gerade aussagekräftig. Eine bessere Wahl wäre `ex:`. Dafür müssen wir den Präfix binden (registrieren)."
   ]
  },
  {
   "cell_type": "code",
   "execution_count": 5,
   "metadata": {
    "deletable": false
   },
   "outputs": [
    {
     "name": "stdout",
     "output_type": "stream",
     "text": [
      "@prefix ex: <http://example.org#> .\n",
      "@prefix rdf: <http://www.w3.org/1999/02/22-rdf-syntax-ns#> .\n",
      "@prefix rdfs: <http://www.w3.org/2000/01/rdf-schema#> .\n",
      "@prefix xml: <http://www.w3.org/XML/1998/namespace> .\n",
      "@prefix xsd: <http://www.w3.org/2001/XMLSchema#> .\n",
      "\n",
      "ex:Wako5UJ_7t a ex:Album ;\n",
      "    ex:title \"The Dark Side of the Moon\" .\n",
      "\n",
      "\n"
     ]
    }
   ],
   "source": [
    "g = Graph()\n",
    "\n",
    "g.bind('ex', 'http://example.org#')\n",
    "\n",
    "r = g.parse(data=rdf, format='nt')\n",
    "\n",
    "print(g.serialize(format='turtle').decode('utf-8'))\n",
    "\n",
    "# Was hat sich geändert gegenüber dem vorherigen Beispiel? Antwort: Es wurde eine Präfix ex definiert"
   ]
  },
  {
   "cell_type": "markdown",
   "metadata": {
    "deletable": false
   },
   "source": [
    "Nun serialisieren wir den Graphen als RDF/XML. Das Resultat der Serialisierung ist implementierungsabhängig. Es werden hier z.B. weder XML Entitäten noch der XML *base namespace* verwendet. Solche Entscheidungen können wir allerdings der Sprache überlassen: Wir müssen uns darüber nicht sonderlich kümmern."
   ]
  },
  {
   "cell_type": "code",
   "execution_count": 6,
   "metadata": {
    "deletable": false
   },
   "outputs": [
    {
     "name": "stdout",
     "output_type": "stream",
     "text": [
      "<?xml version=\"1.0\" encoding=\"UTF-8\"?>\n",
      "<rdf:RDF\n",
      "   xmlns:ex=\"http://example.org#\"\n",
      "   xmlns:rdf=\"http://www.w3.org/1999/02/22-rdf-syntax-ns#\"\n",
      ">\n",
      "  <rdf:Description rdf:about=\"http://example.org#Wako5UJ_7t\">\n",
      "    <rdf:type rdf:resource=\"http://example.org#Album\"/>\n",
      "    <ex:title>The Dark Side of the Moon</ex:title>\n",
      "  </rdf:Description>\n",
      "</rdf:RDF>\n",
      "\n"
     ]
    }
   ],
   "source": [
    "print(g.serialize(format='xml').decode('utf-8'))"
   ]
  },
  {
   "cell_type": "markdown",
   "metadata": {
    "deletable": false
   },
   "source": [
    "Nehmen Sie nun das RDF/XML als Input und serialisieren Sie es nach N-Triples. Zwischen solchen RDF Syntaxen zu konvertieren ist also sehr einfach. Versuchen Sie das auch mal online hier: http://www.easyrdf.org/converter. Welche weiteren Syntaxen gibt es?"
   ]
  },
  {
   "cell_type": "code",
   "execution_count": 7,
   "metadata": {
    "deletable": false
   },
   "outputs": [
    {
     "name": "stdout",
     "output_type": "stream",
     "text": [
      "<http://example.org#Wako5UJ_7t> <http://www.w3.org/1999/02/22-rdf-syntax-ns#type> <http://example.org#Album> .\n",
      "<http://example.org#Wako5UJ_7t> <http://example.org#title> \"The Dark Side of the Moon\" .\n",
      "\n",
      "\n"
     ]
    }
   ],
   "source": [
    "rdf = \"\"\"\n",
    "<rdf:RDF\n",
    "   xmlns:ex=\"http://example.org#\"\n",
    "   xmlns:rdf=\"http://www.w3.org/1999/02/22-rdf-syntax-ns#\"\n",
    ">\n",
    "  <rdf:Description rdf:about=\"http://example.org#Wako5UJ_7t\">\n",
    "    <rdf:type rdf:resource=\"http://example.org#Album\"/>\n",
    "    <ex:title>The Dark Side of the Moon</ex:title>\n",
    "  </rdf:Description>\n",
    "</rdf:RDF>\n",
    "\n",
    "\"\"\"\n",
    "\n",
    "g = Graph()\n",
    "r = g.parse(data=rdf, format='xml')\n",
    "print(g.serialize(format='nt').decode('utf-8'))\n",
    "\n",
    "# Wieviele Syntaxen unterstützt der easyrdf.org converter? Antwort: Sieben (JSON-LD ist eine weitere wichtige Syntax)"
   ]
  },
  {
   "cell_type": "markdown",
   "metadata": {
    "deletable": false
   },
   "source": [
    "Natürlich können Sie RDF auch aus Dateien lesen und schreiben. Führen Sie den nächsten Programmcode aus und schauen Sie sich die Dateien `example.rdf` und `example.n3` an. Wie Sie am Beispiel entnehmen können, dann man RDF Graphen auch programmatisch manipulieren."
   ]
  },
  {
   "cell_type": "code",
   "execution_count": 8,
   "metadata": {
    "deletable": false
   },
   "outputs": [
    {
     "name": "stdout",
     "output_type": "stream",
     "text": [
      "Graph size: 2 triples\n",
      "Graph size: 3 triples\n"
     ]
    }
   ],
   "source": [
    "from rdflib import Graph, URIRef, Literal\n",
    "from rdflib.namespace import RDFS\n",
    "\n",
    "g = Graph()\n",
    "r = g.parse('example.rdf')\n",
    "\n",
    "print('Graph size: {} triples'.format(len(g)))\n",
    "\n",
    "g.add((URIRef('http://example.org#Wako5UJ_7t'), RDFS.label, Literal('Harvest, EMI')))\n",
    "\n",
    "print('Graph size: {} triples'.format(len(g)))\n",
    "\n",
    "g.serialize(destination='example.n3', format='n3')"
   ]
  },
  {
   "cell_type": "markdown",
   "metadata": {
    "deletable": false
   },
   "source": [
    "Versuchen Sie nun ein eigenes Beispiel zu konstruieren. Wählen Sie ein Thema, z.B. Bücher oder Personen, und schreiben Sie RDF in einer Syntax. Sie dürfen das RDF auch programmatisch schreiben indem Sie die `g.add()` Funktion benutzen. Konvertieren Sie dieses zu einer anderen Syntax. Lesen und schreiben Sie die jeweilige Serialisierung in Dateien. \n",
    "\n",
    "Bonus: Versuchen Sie mittels der Dokumentation http://rdflib.readthedocs.io/en/latest/apidocs/rdflib.html ein Tripel zu löschen."
   ]
  },
  {
   "cell_type": "code",
   "execution_count": 9,
   "metadata": {
    "deletable": false
   },
   "outputs": [
    {
     "name": "stdout",
     "output_type": "stream",
     "text": [
      "Graph size: 5 triples\n",
      "Graph size: 4 triples\n"
     ]
    }
   ],
   "source": [
    "from rdflib import BNode, Graph, Namespace\n",
    "\n",
    "rdf = \"\"\"\n",
    "<http://example.org#Wako5UJ_7t> <http://www.w3.org/1999/02/22-rdf-syntax-ns#type> <http://example.org#Adress> .\n",
    "<http://example.org#Wako5UJ_7t> <http://example.org#hasStreetName> \"Tintentrift\" .\n",
    "<http://example.org#Wako5UJ_7t> <http://example.org#hasStreetNumber> \"33\" .\n",
    "<http://example.org#Wako5UJ_7t> <http://example.org#hasZip> \"30176\" .\n",
    "<http://example.org#Wako5UJ_7t> <http://example.org#hasCity> \"Hannover\" .\n",
    "\"\"\"\n",
    "\n",
    "g = Graph()\n",
    "r = g.parse(data=rdf, format='nt')\n",
    "\n",
    "print('Graph size: {} triples'.format(len(g)))\n",
    "\n",
    "g.remove((URIRef('http://example.org#Wako5UJ_7t'), URIRef('http://example.org#hasStreetName'), Literal('Tintentrift')))\n",
    "\n",
    "print('Graph size: {} triples'.format(len(g)))"
   ]
  }
 ],
 "metadata": {
  "kernelspec": {
   "display_name": "Python 3",
   "language": "python",
   "name": "python3"
  },
  "language_info": {
   "codemirror_mode": {
    "name": "ipython",
    "version": 3
   },
   "file_extension": ".py",
   "mimetype": "text/x-python",
   "name": "python",
   "nbconvert_exporter": "python",
   "pygments_lexer": "ipython3",
   "version": "3.6.4"
  }
 },
 "nbformat": 4,
 "nbformat_minor": 2
}
