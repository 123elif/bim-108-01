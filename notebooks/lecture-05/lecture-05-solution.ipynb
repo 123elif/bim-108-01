{
 "cells": [
  {
   "cell_type": "markdown",
   "metadata": {
    "deletable": false
   },
   "source": [
    "# Schema: XML Schema"
   ]
  },
  {
   "cell_type": "markdown",
   "metadata": {
    "deletable": false
   },
   "source": [
    "Ähnlich wie die Document Type Definition (DTD), ermöglicht auch XML Schema die Spezifikation von XML Dokumente und somit das Validieren solcher Dokumente. Ziel beider Grammatiken ist die Interoperabilität zwischen entwickelten Systeme zu ermöglichen oder erhöhen. In dieser Übung schauen wir uns XML Schema etwas genauer in der Praxis an. Führen Sie zuerst den folgenden Codeblock aus und machen Sie dann der Reihe nach weiter. Beantworten Sie die Fragen (falls zutreffend). Zum Schluss, schreiben Sie ein eigenes XML Schema und ein exemplarisches XML Dokument dafür. Stellen Sie sicher, dass das XML Dokument wohlgeformt und gültig ist."
   ]
  },
  {
   "cell_type": "code",
   "execution_count": 1,
   "metadata": {
    "deletable": false
   },
   "outputs": [],
   "source": [
    "import io\n",
    "from lxml import etree as et\n",
    "\n",
    "def isvalid(xsd, doc):\n",
    "    print(et.XMLSchema(et.parse(io.StringIO(xsd))).validate(et.fromstring(doc)))"
   ]
  },
  {
   "cell_type": "code",
   "execution_count": 3,
   "metadata": {
    "deletable": false
   },
   "outputs": [
    {
     "name": "stdout",
     "output_type": "stream",
     "text": [
      "True\n",
      "False\n"
     ]
    }
   ],
   "source": [
    "xsd = \"\"\"\n",
    "<xs:schema xmlns:xs=\"http://www.w3.org/2001/XMLSchema\">\n",
    "  <xs:element name=\"discography\"/>\n",
    "</xs:schema>\n",
    "\"\"\"\n",
    "\n",
    "isvalid(xsd, '<discography/>')\n",
    "isvalid(xsd, '<albums/>') # Warum ist dieses Dokument nicht gültig? Antwort: Das Schema deklariert kein albums Element."
   ]
  },
  {
   "cell_type": "code",
   "execution_count": 5,
   "metadata": {
    "deletable": false
   },
   "outputs": [
    {
     "name": "stdout",
     "output_type": "stream",
     "text": [
      "True\n",
      "True\n"
     ]
    }
   ],
   "source": [
    "xsd = \"\"\"\n",
    "<xs:schema xmlns:xs=\"http://www.w3.org/2001/XMLSchema\">\n",
    "  <xs:element name=\"title\" type=\"xs:string\"/>\n",
    "</xs:schema>\n",
    "\"\"\"\n",
    "\n",
    "isvalid(xsd, '<title>The Dark Side of the Moon</title>')\n",
    "isvalid(xsd, '<title>1973</title>') # Warum ist dieses Dokument gültig? Antwort: Das Schema deklariert das Element title mit Datentyp string (Zeichenfolge). Die (eigentliche) Nummer 1973 wird hier als Zeichenfolge interpretiert."
   ]
  },
  {
   "cell_type": "code",
   "execution_count": 7,
   "metadata": {
    "deletable": false
   },
   "outputs": [
    {
     "name": "stdout",
     "output_type": "stream",
     "text": [
      "True\n",
      "False\n"
     ]
    }
   ],
   "source": [
    "xsd = \"\"\"\n",
    "<xs:schema xmlns:xs=\"http://www.w3.org/2001/XMLSchema\">\n",
    "  <xs:element name=\"year\" type=\"xs:decimal\"/>\n",
    "</xs:schema>\n",
    "\"\"\"\n",
    "\n",
    "isvalid(xsd, '<year>1973</year>')\n",
    "isvalid(xsd, '<year>The Dark Side of the Moon</year>') # Warum ist dieses Dokument nicht gültig? Antwort: Der Inhalt des Elements year ist als Dezimalzahl deklariert. Eine Zeichenfolge kann nicht als Zahl interpretiert werden."
   ]
  },
  {
   "cell_type": "code",
   "execution_count": 8,
   "metadata": {
    "deletable": false
   },
   "outputs": [
    {
     "name": "stdout",
     "output_type": "stream",
     "text": [
      "True\n"
     ]
    }
   ],
   "source": [
    "xsd = \"\"\"\n",
    "<xs:schema xmlns:xs=\"http://www.w3.org/2001/XMLSchema\">\n",
    "  <xs:element name=\"year\" type=\"xs:gYear\"/>\n",
    "</xs:schema>\n",
    "\"\"\"\n",
    "\n",
    "isvalid(xsd, '<year>1973</year>')"
   ]
  },
  {
   "cell_type": "code",
   "execution_count": 13,
   "metadata": {
    "deletable": false
   },
   "outputs": [
    {
     "name": "stdout",
     "output_type": "stream",
     "text": [
      "False\n"
     ]
    }
   ],
   "source": [
    "xsd = \"\"\"\n",
    "<xs:schema xmlns:xs=\"http://www.w3.org/2001/XMLSchema\">\n",
    "  <xs:element name=\"year\" type=\"xs:gMonth\"/>\n",
    "</xs:schema>\n",
    "\"\"\"\n",
    "\n",
    "isvalid(xsd, '<year>1979</year>') # Warum ist dieses Dokument nicht gültig? Antwort: Der Datentyp des Elements year ist gMonth und 1973 ist ein Wert der nicht in der Wertemenge dieses Datentyps liegt. Gültig wäre z.B. <year>--07</year>."
   ]
  },
  {
   "cell_type": "markdown",
   "metadata": {
    "deletable": false
   },
   "source": [
    "## Komplexe Elemente Deklarieren: Variante I"
   ]
  },
  {
   "cell_type": "code",
   "execution_count": 14,
   "metadata": {
    "deletable": false
   },
   "outputs": [
    {
     "name": "stdout",
     "output_type": "stream",
     "text": [
      "True\n"
     ]
    }
   ],
   "source": [
    "xsd = \"\"\"\n",
    "<xs:schema xmlns:xs=\"http://www.w3.org/2001/XMLSchema\">\n",
    "  <xs:element name=\"album\">\n",
    "    <xs:complexType>\n",
    "      <xs:sequence>\n",
    "        <xs:element name=\"title\" type=\"xs:string\"/>\n",
    "        <xs:element name=\"label\" type=\"xs:string\"/>\n",
    "      </xs:sequence>\n",
    "    </xs:complexType>\n",
    "  </xs:element>\n",
    "</xs:schema>\n",
    "\"\"\"\n",
    "\n",
    "doc = \"\"\"\n",
    "<album>\n",
    "<title>The Dark Side of the Moon</title>\n",
    "<label>Harvest, EMI</label>\n",
    "</album>\n",
    "\"\"\"\n",
    "\n",
    "isvalid(xsd, doc)"
   ]
  },
  {
   "cell_type": "code",
   "execution_count": 16,
   "metadata": {
    "deletable": false
   },
   "outputs": [
    {
     "name": "stdout",
     "output_type": "stream",
     "text": [
      "False\n"
     ]
    }
   ],
   "source": [
    "xsd = \"\"\"\n",
    "<xs:schema xmlns:xs=\"http://www.w3.org/2001/XMLSchema\">\n",
    "  <xs:element name=\"album\">\n",
    "    <xs:complexType>\n",
    "      <xs:sequence>\n",
    "        <xs:element name=\"label\" type=\"xs:string\"/>\n",
    "        <xs:element name=\"title\" type=\"xs:string\"/>\n",
    "      </xs:sequence>\n",
    "    </xs:complexType>\n",
    "  </xs:element>\n",
    "</xs:schema>\n",
    "\"\"\"\n",
    "\n",
    "doc = \"\"\"\n",
    "<album>\n",
    "<title>The Dark Side of the Moon</title>\n",
    "<label>Harvest, EMI</label>\n",
    "</album>\n",
    "\"\"\"\n",
    "\n",
    "isvalid(xsd, doc) # Warum ist dieses Dokument nicht gültig? Antwort: Das Schema erwartet die Reihenfolge label, titel für diese Elemente."
   ]
  },
  {
   "cell_type": "code",
   "execution_count": 18,
   "metadata": {
    "deletable": false
   },
   "outputs": [
    {
     "name": "stdout",
     "output_type": "stream",
     "text": [
      "False\n"
     ]
    }
   ],
   "source": [
    "xsd = \"\"\"\n",
    "<xs:schema xmlns:xs=\"http://www.w3.org/2001/XMLSchema\">\n",
    "  <xs:element name=\"album\">\n",
    "    <xs:complexType>\n",
    "      <xs:sequence>\n",
    "        <xs:element name=\"title\" type=\"xs:string\"/>\n",
    "        <xs:element name=\"label\" type=\"xs:string\"/>\n",
    "      </xs:sequence>\n",
    "    </xs:complexType>\n",
    "  </xs:element>\n",
    "</xs:schema>\n",
    "\"\"\"\n",
    "\n",
    "doc = \"\"\"\n",
    "<album>\n",
    "<label>Harvest, EMI</label>\n",
    "<title>The Dark Side of the Moon</title>\n",
    "</album>\n",
    "\"\"\"\n",
    "\n",
    "isvalid(xsd, doc) # Warum ist dieses Dokument nicht gültig? Antwort: Das Schema erwartet die Reihenfolge title, label für diese Elemente."
   ]
  },
  {
   "cell_type": "markdown",
   "metadata": {
    "deletable": false
   },
   "source": [
    "## Komplexe Elemente Deklarieren: Variante II"
   ]
  },
  {
   "cell_type": "code",
   "execution_count": 19,
   "metadata": {
    "deletable": false
   },
   "outputs": [
    {
     "name": "stdout",
     "output_type": "stream",
     "text": [
      "True\n"
     ]
    }
   ],
   "source": [
    "xsd = \"\"\"\n",
    "<xs:schema xmlns:xs=\"http://www.w3.org/2001/XMLSchema\">\n",
    "  <xs:element name=\"album\" type=\"AlbumType\"/>\n",
    "  \n",
    "  <xs:complexType name=\"AlbumType\">\n",
    "    <xs:sequence>\n",
    "      <xs:element name=\"title\" type=\"xs:string\"/>\n",
    "      <xs:element name=\"label\" type=\"xs:string\"/>\n",
    "    </xs:sequence>\n",
    "  </xs:complexType>\n",
    "\n",
    "</xs:schema>\n",
    "\"\"\"\n",
    "\n",
    "doc = \"\"\"\n",
    "<album>\n",
    "<title>The Dark Side of the Moon</title>\n",
    "<label>Harvest, EMI</label>\n",
    "</album>\n",
    "\"\"\"\n",
    "\n",
    "isvalid(xsd, doc)"
   ]
  },
  {
   "cell_type": "code",
   "execution_count": 21,
   "metadata": {
    "deletable": false
   },
   "outputs": [
    {
     "name": "stdout",
     "output_type": "stream",
     "text": [
      "True\n",
      "False\n"
     ]
    }
   ],
   "source": [
    "xsd = \"\"\"\n",
    "<xs:schema xmlns:xs=\"http://www.w3.org/2001/XMLSchema\">\n",
    "  <xs:element name=\"work\" type=\"WorkType\"/>\n",
    "  <xs:element name=\"album\" type=\"AlbumType\"/>\n",
    "  <xs:complexType name=\"WorkType\">\n",
    "    <xs:sequence>\n",
    "      <xs:element name=\"title\" type=\"xs:string\"/>\n",
    "    </xs:sequence>\n",
    "  </xs:complexType>\n",
    "  <xs:complexType name=\"AlbumType\">\n",
    "    <xs:complexContent>\n",
    "      <xs:extension base=\"WorkType\">\n",
    "        <xs:sequence>\n",
    "          <xs:element name=\"label\" type=\"xs:string\"/>\n",
    "        </xs:sequence>\n",
    "      </xs:extension>\n",
    "    </xs:complexContent>\n",
    " </xs:complexType>\n",
    "</xs:schema>\n",
    "\"\"\"\n",
    "\n",
    "doc = \"\"\"\n",
    "<album>\n",
    "<title>The Dark Side of the Moon</title>\n",
    "<label>Harvest, EMI</label>\n",
    "</album>\n",
    "\"\"\"\n",
    "\n",
    "isvalid(xsd, doc)\n",
    "\n",
    "doc = \"\"\"\n",
    "<album>\n",
    "<!-- The order matters -->\n",
    "<label>Harvest, EMI</label>\n",
    "<title>The Dark Side of the Moon</title>\n",
    "</album>\n",
    "\"\"\"\n",
    "\n",
    "isvalid(xsd, doc) # Warum ist dieses Dokument nicht gültig? Antwort: Das Schema erwartet die Reihenfolge title, label für diese Element. Der Type AlbumType erweitert den Typ WorkType der zuerst das Element title deklariert. Danach deklariert AlbumType das Element label."
   ]
  },
  {
   "cell_type": "markdown",
   "metadata": {
    "deletable": false
   },
   "source": [
    "# Attribute Deklarieren"
   ]
  },
  {
   "cell_type": "code",
   "execution_count": 22,
   "metadata": {
    "deletable": false
   },
   "outputs": [
    {
     "name": "stdout",
     "output_type": "stream",
     "text": [
      "True\n"
     ]
    }
   ],
   "source": [
    "xsd = \"\"\"\n",
    "<xs:schema xmlns:xs=\"http://www.w3.org/2001/XMLSchema\">\n",
    "  <xs:element name=\"album\">\n",
    "    <xs:complexType>\n",
    "      <xs:attribute name=\"title\" type=\"xs:string\"/>\n",
    "    </xs:complexType>\n",
    "  </xs:element>\n",
    "</xs:schema>\n",
    "\"\"\"\n",
    "\n",
    "doc = \"\"\"\n",
    "<album title=\"The Dark Side of the Moon\"/>\n",
    "\"\"\"\n",
    "\n",
    "isvalid(xsd, doc)"
   ]
  },
  {
   "cell_type": "code",
   "execution_count": 23,
   "metadata": {
    "deletable": false
   },
   "outputs": [
    {
     "name": "stdout",
     "output_type": "stream",
     "text": [
      "True\n"
     ]
    }
   ],
   "source": [
    "xsd = \"\"\"\n",
    "<xs:schema xmlns:xs=\"http://www.w3.org/2001/XMLSchema\">\n",
    "  <xs:element name=\"album\">\n",
    "    <xs:complexType>\n",
    "      <xs:simpleContent>\n",
    "        <xs:extension base=\"xs:string\">\n",
    "          <xs:attribute name=\"year\" type=\"xs:gYear\" />\n",
    "        </xs:extension>\n",
    "      </xs:simpleContent>\n",
    "    </xs:complexType>\n",
    "  </xs:element>\n",
    "</xs:schema>\n",
    "\"\"\"\n",
    "\n",
    "doc = \"\"\"\n",
    "<album year=\"1973\">The Dark Side of the Moon</album>\n",
    "\"\"\"\n",
    "\n",
    "isvalid(xsd, doc)"
   ]
  },
  {
   "cell_type": "markdown",
   "metadata": {
    "deletable": false
   },
   "source": [
    "# Weitere Eigenschaften"
   ]
  },
  {
   "cell_type": "code",
   "execution_count": 25,
   "metadata": {
    "deletable": false
   },
   "outputs": [
    {
     "name": "stdout",
     "output_type": "stream",
     "text": [
      "True\n"
     ]
    }
   ],
   "source": [
    "xsd = \"\"\"\n",
    "<xs:schema xmlns:xs=\"http://www.w3.org/2001/XMLSchema\">\n",
    "  <xs:element name=\"album\">\n",
    "    <xs:complexType>\n",
    "      <xs:sequence>\n",
    "        <xs:element name=\"title\" type=\"xs:string\" maxOccurs=\"2\"/>\n",
    "        <xs:element name=\"label\" type=\"xs:string\"/>\n",
    "      </xs:sequence>\n",
    "    </xs:complexType>\n",
    "  </xs:element>\n",
    "</xs:schema>\n",
    "\"\"\"\n",
    "\n",
    "doc = \"\"\"\n",
    "<album>\n",
    "<title>The Dark Side of the Moon</title>\n",
    "<title>The Bright Side of the Moon</title>\n",
    "<label>Harvest, EMI</label>\n",
    "</album>\n",
    "\"\"\"\n",
    "\n",
    "isvalid(xsd, doc) # Warum ist dieses Dokument gültig? Antwort: Das Element title darf ein oder zweimal verwendet werden."
   ]
  },
  {
   "cell_type": "code",
   "execution_count": 27,
   "metadata": {
    "deletable": false
   },
   "outputs": [
    {
     "name": "stdout",
     "output_type": "stream",
     "text": [
      "True\n",
      "True\n"
     ]
    }
   ],
   "source": [
    "xsd = \"\"\"\n",
    "<xs:schema xmlns:xs=\"http://www.w3.org/2001/XMLSchema\">\n",
    "  <xs:element name=\"album\">\n",
    "    <xs:complexType>\n",
    "      <xs:all>\n",
    "        <xs:element name=\"title\" type=\"xs:string\"/>\n",
    "        <xs:element name=\"label\" type=\"xs:string\"/>\n",
    "      </xs:all>\n",
    "    </xs:complexType>\n",
    "  </xs:element>\n",
    "</xs:schema>\n",
    "\"\"\"\n",
    "\n",
    "doc = \"\"\"\n",
    "<album>\n",
    "<title>The Dark Side of the Moon</title>\n",
    "<label>Harvest, EMI</label>\n",
    "</album>\n",
    "\"\"\"\n",
    "\n",
    "isvalid(xsd, doc)\n",
    "\n",
    "doc = \"\"\"\n",
    "<album>\n",
    "<label>Harvest, EMI</label>\n",
    "<title>The Dark Side of the Moon</title>\n",
    "</album>\n",
    "\"\"\"\n",
    "\n",
    "isvalid(xsd, doc) # Warum ist dieses Dokument gültig? Antwort: Der komplexe Typ deklariert hier die Elemente title, label nicht als Sequenz sondern ohne definierte Reihenfolge."
   ]
  },
  {
   "cell_type": "code",
   "execution_count": 29,
   "metadata": {
    "deletable": false
   },
   "outputs": [
    {
     "name": "stdout",
     "output_type": "stream",
     "text": [
      "True\n",
      "True\n",
      "False\n"
     ]
    }
   ],
   "source": [
    "xsd = \"\"\"\n",
    "<xs:schema xmlns:xs=\"http://www.w3.org/2001/XMLSchema\">\n",
    "  <xs:element name=\"album\">\n",
    "    <xs:complexType>\n",
    "      <xs:choice>\n",
    "        <xs:element name=\"title\" type=\"xs:string\"/>\n",
    "        <xs:element name=\"label\" type=\"xs:string\"/>\n",
    "      </xs:choice>\n",
    "    </xs:complexType>\n",
    "  </xs:element>\n",
    "</xs:schema>\n",
    "\"\"\"\n",
    "\n",
    "doc = \"\"\"\n",
    "<album>\n",
    "<title>The Dark Side of the Moon</title>\n",
    "</album>\n",
    "\"\"\"\n",
    "\n",
    "isvalid(xsd, doc)\n",
    "\n",
    "doc = \"\"\"\n",
    "<album>\n",
    "<label>Harvest, EMI</label>\n",
    "</album>\n",
    "\"\"\"\n",
    "\n",
    "isvalid(xsd, doc)\n",
    "\n",
    "doc = \"\"\"\n",
    "<album>\n",
    "<title>The Dark Side of the Moon</title>\n",
    "<label>Harvest, EMI</label>\n",
    "</album>\n",
    "\"\"\"\n",
    "\n",
    "isvalid(xsd, doc) # Warum ist dieses Dokument nicht gültig? Antwort: Das Schema spezifiziert hier, dass das Element title oder das Element label verwendet werden kann, nicht aber beide."
   ]
  },
  {
   "cell_type": "code",
   "execution_count": 36,
   "metadata": {
    "deletable": false
   },
   "outputs": [
    {
     "name": "stdout",
     "output_type": "stream",
     "text": [
      "True\n",
      "False\n"
     ]
    }
   ],
   "source": [
    "xsd = \"\"\"\n",
    "<xs:schema xmlns:xs=\"http://www.w3.org/2001/XMLSchema\">\n",
    "  <xs:element name=\"released\">\n",
    "    <xs:simpleType>\n",
    "      <xs:restriction base=\"xs:integer\">\n",
    "        <xs:minInclusive value=\"1950\"/>\n",
    "        <xs:maxInclusive value=\"2018\"/>\n",
    "      </xs:restriction>\n",
    "    </xs:simpleType>\n",
    "  </xs:element>\n",
    "</xs:schema>\n",
    "\"\"\"\n",
    "\n",
    "doc = \"\"\"\n",
    "<released>1973</released>\n",
    "\"\"\"\n",
    "\n",
    "isvalid(xsd, doc)\n",
    "\n",
    "doc = \"\"\"\n",
    "<released>2020</released>\n",
    "\"\"\"\n",
    "\n",
    "isvalid(xsd, doc) # Warum ist dieses Dokument nicht gültig? Antwort: Der Wert 2020 liegt ausserhalb des Bereiches [1950, 2018]."
   ]
  },
  {
   "cell_type": "code",
   "execution_count": 37,
   "metadata": {
    "deletable": false
   },
   "outputs": [
    {
     "name": "stdout",
     "output_type": "stream",
     "text": [
      "True\n",
      "False\n"
     ]
    }
   ],
   "source": [
    "xsd = \"\"\"\n",
    "<xs:schema xmlns:xs=\"http://www.w3.org/2001/XMLSchema\">\n",
    "  <xs:element name=\"author\">\n",
    "    <xs:simpleType>\n",
    "      <xs:restriction base=\"xs:string\">\n",
    "        <xs:enumeration value=\"Roger Waters\"/>\n",
    "        <xs:enumeration value=\"David Gilmour\"/>\n",
    "        <xs:enumeration value=\"Syd Barrett\"/>\n",
    "      </xs:restriction>\n",
    "    </xs:simpleType>\n",
    "  </xs:element>\n",
    "</xs:schema>\n",
    "\"\"\"\n",
    "\n",
    "doc = \"\"\"\n",
    "<author>Roger Waters</author>\n",
    "\"\"\"\n",
    "\n",
    "isvalid(xsd, doc)\n",
    "\n",
    "doc = \"\"\"\n",
    "<author>Jimmy Page</author>\n",
    "\"\"\"\n",
    "\n",
    "isvalid(xsd, doc) # Warum ist dieses Dokument nicht gültig? Antwort: Der Wert Jimmy Page ist nicht in der Menge {'Roger Waters', 'David Gilmour', 'Syd Barret'}."
   ]
  },
  {
   "cell_type": "code",
   "execution_count": 39,
   "metadata": {
    "deletable": false
   },
   "outputs": [
    {
     "name": "stdout",
     "output_type": "stream",
     "text": [
      "True\n",
      "False\n"
     ]
    }
   ],
   "source": [
    "xsd = \"\"\"\n",
    "<xs:schema xmlns:xs=\"http://www.w3.org/2001/XMLSchema\">\n",
    "  <xs:element name=\"author\">\n",
    "    <xs:simpleType>\n",
    "      <xs:restriction base=\"xs:string\">\n",
    "        <xs:pattern value=\"[A-Z][a-z]+\"/>\n",
    "      </xs:restriction>\n",
    "    </xs:simpleType>\n",
    "  </xs:element>\n",
    "</xs:schema>\n",
    "\"\"\"\n",
    "\n",
    "doc = \"\"\"\n",
    "<author>Waters</author>\n",
    "\"\"\"\n",
    "\n",
    "isvalid(xsd, doc)\n",
    "\n",
    "doc = \"\"\"\n",
    "<author>gilmour</author>\n",
    "\"\"\"\n",
    "\n",
    "isvalid(xsd, doc) # Warum ist dieses Dokument nicht gültig? Antwort: Der Wert 'gilmour' entspricht nicht dem Pattern: Müsste Gilmour lauten."
   ]
  },
  {
   "cell_type": "code",
   "execution_count": 40,
   "metadata": {
    "deletable": false
   },
   "outputs": [
    {
     "name": "stdout",
     "output_type": "stream",
     "text": [
      "True\n"
     ]
    }
   ],
   "source": [
    "xsd = \"\"\"\n",
    "<xs:schema xmlns:xs=\"http://www.w3.org/2001/XMLSchema\" \n",
    "  targetNamespace=\"http://example.org\"\n",
    "  elementFormDefault=\"qualified\">\n",
    "  <xs:element name=\"album\">\n",
    "    <xs:complexType>\n",
    "      <xs:sequence>\n",
    "        <xs:element name=\"title\" type=\"xs:string\"/>\n",
    "        <xs:element name=\"label\" type=\"xs:string\"/>\n",
    "      </xs:sequence>\n",
    "    </xs:complexType>\n",
    "  </xs:element>\n",
    "</xs:schema>\n",
    "\"\"\"\n",
    "\n",
    "doc = \"\"\"\n",
    "<album xmlns=\"http://example.org\">\n",
    "<title>The Dark Side of the Moon</title>\n",
    "<label>Harvest, EMI</label>\n",
    "</album>\n",
    "\"\"\"\n",
    "\n",
    "isvalid(xsd, doc)"
   ]
  },
  {
   "cell_type": "markdown",
   "metadata": {
    "deletable": false
   },
   "source": [
    "Denken Sie sich nun ein eigenes XML Dokument aus und erstellen Sie dafür ein XML Schema. Überprüfen Sie das XML Dokument auf Gültigkeit."
   ]
  },
  {
   "cell_type": "code",
   "execution_count": 44,
   "metadata": {
    "deletable": false
   },
   "outputs": [
    {
     "name": "stdout",
     "output_type": "stream",
     "text": [
      "True\n"
     ]
    }
   ],
   "source": [
    "dtd = \"\"\"\n",
    "<xs:schema xmlns:xs=\"http://www.w3.org/2001/XMLSchema\">\n",
    "  <xs:element name=\"addresses\">\n",
    "    <xs:complexType>\n",
    "      <xs:sequence>\n",
    "        <xs:element name=\"address\" maxOccurs=\"unbounded\">\n",
    "          <xs:complexType>\n",
    "            <xs:sequence>\n",
    "              <xs:element name=\"streetname\" type=\"xs:string\"/>\n",
    "              <xs:element name=\"streetnumber\" type=\"xs:string\"/>\n",
    "              <xs:element name=\"zip\" type=\"xs:int\" minOccurs=\"0\"/>\n",
    "              <xs:element name=\"city\" type=\"xs:string\"/>\n",
    "            </xs:sequence>\n",
    "          </xs:complexType>\n",
    "        </xs:element>\n",
    "      </xs:sequence>\n",
    "    </xs:complexType>\n",
    "  </xs:element>\n",
    "</xs:schema>\n",
    "\"\"\"\n",
    "\n",
    "doc = \"\"\"\n",
    "<addresses>\n",
    "<address>\n",
    "<streetname>Lange Laube</streetname>\n",
    "<streetnumber>43</streetnumber>\n",
    "<zip>30178</zip>\n",
    "<city>Hannover</city>\n",
    "</address>\n",
    "<address>\n",
    "<streetname>Tintentrift</streetname>\n",
    "<streetnumber>4b</streetnumber>\n",
    "<city>Hannover</city>\n",
    "</address>\n",
    "</addresses>\n",
    "\"\"\"\n",
    "\n",
    "isvalid(dtd, doc)"
   ]
  }
 ],
 "metadata": {
  "kernelspec": {
   "display_name": "Python 3",
   "language": "python",
   "name": "python3"
  },
  "language_info": {
   "codemirror_mode": {
    "name": "ipython",
    "version": 3
   },
   "file_extension": ".py",
   "mimetype": "text/x-python",
   "name": "python",
   "nbconvert_exporter": "python",
   "pygments_lexer": "ipython3",
   "version": "3.6.4"
  }
 },
 "nbformat": 4,
 "nbformat_minor": 2
}
