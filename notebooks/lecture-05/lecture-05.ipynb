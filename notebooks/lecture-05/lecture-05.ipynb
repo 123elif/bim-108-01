{
 "cells": [
  {
   "cell_type": "markdown",
   "metadata": {
    "deletable": false
   },
   "source": [
    "# Schema: XML Schema"
   ]
  },
  {
   "cell_type": "markdown",
   "metadata": {
    "deletable": false
   },
   "source": [
    "Ähnlich wie die Document Type Definition (DTD), ermöglicht auch XML Schema die Spezifikation von XML Dokumente und somit das Validieren solcher Dokumente. Ziel beider Grammatiken ist die Interoperabilität zwischen entwickelten Systeme zu ermöglichen oder erhöhen. In dieser Übung schauen wir uns XML Schema etwas genauer in der Praxis an. Führen Sie zuerst den folgenden Codeblock aus und machen Sie dann der Reihe nach weiter. Beantworten Sie die Fragen (falls zutreffend). Zum Schluss, schreiben Sie ein eigenes XML Schema und ein exemplarisches XML Dokument dafür. Stellen Sie sicher, dass das XML Dokument wohlgeformt und gültig ist."
   ]
  },
  {
   "cell_type": "code",
   "execution_count": null,
   "metadata": {
    "deletable": false
   },
   "outputs": [],
   "source": [
    "import io\n",
    "from lxml import etree as et\n",
    "\n",
    "def isvalid(xsd, doc):\n",
    "    print(et.XMLSchema(et.parse(io.StringIO(xsd))).validate(et.fromstring(doc)))"
   ]
  },
  {
   "cell_type": "code",
   "execution_count": null,
   "metadata": {
    "deletable": false
   },
   "outputs": [],
   "source": [
    "xsd = \"\"\"\n",
    "<xs:schema xmlns:xs=\"http://www.w3.org/2001/XMLSchema\">\n",
    "  <xs:element name=\"discography\"/>\n",
    "</xs:schema>\n",
    "\"\"\"\n",
    "\n",
    "isvalid(xsd, '<discography/>')\n",
    "isvalid(xsd, '<albums/>') # Warum ist dieses Dokument nicht gültig? Antwort: "
   ]
  },
  {
   "cell_type": "code",
   "execution_count": null,
   "metadata": {
    "deletable": false
   },
   "outputs": [],
   "source": [
    "xsd = \"\"\"\n",
    "<xs:schema xmlns:xs=\"http://www.w3.org/2001/XMLSchema\">\n",
    "  <xs:element name=\"title\" type=\"xs:string\"/>\n",
    "</xs:schema>\n",
    "\"\"\"\n",
    "\n",
    "isvalid(xsd, '<title>The Dark Side of the Moon</title>')\n",
    "isvalid(xsd, '<title>1973</title>') # Warum ist dieses Dokument gültig? Antwort: "
   ]
  },
  {
   "cell_type": "code",
   "execution_count": null,
   "metadata": {
    "deletable": false
   },
   "outputs": [],
   "source": [
    "xsd = \"\"\"\n",
    "<xs:schema xmlns:xs=\"http://www.w3.org/2001/XMLSchema\">\n",
    "  <xs:element name=\"year\" type=\"xs:decimal\"/>\n",
    "</xs:schema>\n",
    "\"\"\"\n",
    "\n",
    "isvalid(xsd, '<year>1973</year>')\n",
    "isvalid(xsd, '<year>The Dark Side of the Moon</year>') # Warum ist dieses Dokument nicht gültig? Antwort: "
   ]
  },
  {
   "cell_type": "code",
   "execution_count": null,
   "metadata": {
    "deletable": false
   },
   "outputs": [],
   "source": [
    "xsd = \"\"\"\n",
    "<xs:schema xmlns:xs=\"http://www.w3.org/2001/XMLSchema\">\n",
    "  <xs:element name=\"year\" type=\"xs:gYear\"/>\n",
    "</xs:schema>\n",
    "\"\"\"\n",
    "\n",
    "isvalid(xsd, '<year>1973</year>')"
   ]
  },
  {
   "cell_type": "code",
   "execution_count": null,
   "metadata": {
    "deletable": false
   },
   "outputs": [],
   "source": [
    "xsd = \"\"\"\n",
    "<xs:schema xmlns:xs=\"http://www.w3.org/2001/XMLSchema\">\n",
    "  <xs:element name=\"year\" type=\"xs:gMonth\"/>\n",
    "</xs:schema>\n",
    "\"\"\"\n",
    "\n",
    "isvalid(xsd, '<year>1973</year>') # Warum ist dieses Dokument nicht gültig? Antwort: "
   ]
  },
  {
   "cell_type": "markdown",
   "metadata": {
    "deletable": false
   },
   "source": [
    "## Komplexe Elemente Deklarieren: Variante I"
   ]
  },
  {
   "cell_type": "code",
   "execution_count": null,
   "metadata": {
    "deletable": false
   },
   "outputs": [],
   "source": [
    "xsd = \"\"\"\n",
    "<xs:schema xmlns:xs=\"http://www.w3.org/2001/XMLSchema\">\n",
    "  <xs:element name=\"album\">\n",
    "    <xs:complexType>\n",
    "      <xs:sequence>\n",
    "        <xs:element name=\"title\" type=\"xs:string\"/>\n",
    "        <xs:element name=\"label\" type=\"xs:string\"/>\n",
    "      </xs:sequence>\n",
    "    </xs:complexType>\n",
    "  </xs:element>\n",
    "</xs:schema>\n",
    "\"\"\"\n",
    "\n",
    "doc = \"\"\"\n",
    "<album>\n",
    "<title>The Dark Side of the Moon</title>\n",
    "<label>Harvest, EMI</label>\n",
    "</album>\n",
    "\"\"\"\n",
    "\n",
    "isvalid(xsd, doc)"
   ]
  },
  {
   "cell_type": "code",
   "execution_count": null,
   "metadata": {
    "deletable": false
   },
   "outputs": [],
   "source": [
    "xsd = \"\"\"\n",
    "<xs:schema xmlns:xs=\"http://www.w3.org/2001/XMLSchema\">\n",
    "  <xs:element name=\"album\">\n",
    "    <xs:complexType>\n",
    "      <xs:sequence>\n",
    "        <xs:element name=\"label\" type=\"xs:string\"/>\n",
    "        <xs:element name=\"title\" type=\"xs:string\"/>\n",
    "      </xs:sequence>\n",
    "    </xs:complexType>\n",
    "  </xs:element>\n",
    "</xs:schema>\n",
    "\"\"\"\n",
    "\n",
    "doc = \"\"\"\n",
    "<album>\n",
    "<title>The Dark Side of the Moon</title>\n",
    "<label>Harvest, EMI</label>\n",
    "</album>\n",
    "\"\"\"\n",
    "\n",
    "isvalid(xsd, doc) # Warum ist dieses Dokument nicht gültig? Antwort: "
   ]
  },
  {
   "cell_type": "code",
   "execution_count": null,
   "metadata": {
    "deletable": false
   },
   "outputs": [],
   "source": [
    "xsd = \"\"\"\n",
    "<xs:schema xmlns:xs=\"http://www.w3.org/2001/XMLSchema\">\n",
    "  <xs:element name=\"album\">\n",
    "    <xs:complexType>\n",
    "      <xs:sequence>\n",
    "        <xs:element name=\"title\" type=\"xs:string\"/>\n",
    "        <xs:element name=\"label\" type=\"xs:string\"/>\n",
    "      </xs:sequence>\n",
    "    </xs:complexType>\n",
    "  </xs:element>\n",
    "</xs:schema>\n",
    "\"\"\"\n",
    "\n",
    "doc = \"\"\"\n",
    "<album>\n",
    "<label>Harvest, EMI</label>\n",
    "<title>The Dark Side of the Moon</title>\n",
    "</album>\n",
    "\"\"\"\n",
    "\n",
    "isvalid(xsd, doc) # Warum ist dieses Dokument nicht gültig? Antwort: "
   ]
  },
  {
   "cell_type": "markdown",
   "metadata": {
    "deletable": false
   },
   "source": [
    "## Komplexe Elemente Deklarieren: Variante II"
   ]
  },
  {
   "cell_type": "code",
   "execution_count": null,
   "metadata": {
    "deletable": false
   },
   "outputs": [],
   "source": [
    "xsd = \"\"\"\n",
    "<xs:schema xmlns:xs=\"http://www.w3.org/2001/XMLSchema\">\n",
    "  <xs:element name=\"album\" type=\"AlbumType\"/>\n",
    "  \n",
    "  <xs:complexType name=\"AlbumType\">\n",
    "    <xs:sequence>\n",
    "      <xs:element name=\"title\" type=\"xs:string\"/>\n",
    "      <xs:element name=\"label\" type=\"xs:string\"/>\n",
    "    </xs:sequence>\n",
    "  </xs:complexType>\n",
    "\n",
    "</xs:schema>\n",
    "\"\"\"\n",
    "\n",
    "doc = \"\"\"\n",
    "<album>\n",
    "<title>The Dark Side of the Moon</title>\n",
    "<label>Harvest, EMI</label>\n",
    "</album>\n",
    "\"\"\"\n",
    "\n",
    "isvalid(xsd, doc)"
   ]
  },
  {
   "cell_type": "code",
   "execution_count": null,
   "metadata": {
    "deletable": false
   },
   "outputs": [],
   "source": [
    "xsd = \"\"\"\n",
    "<xs:schema xmlns:xs=\"http://www.w3.org/2001/XMLSchema\">\n",
    "  <xs:element name=\"work\" type=\"WorkType\"/>\n",
    "  <xs:element name=\"album\" type=\"AlbumType\"/>\n",
    "  <xs:complexType name=\"WorkType\">\n",
    "    <xs:sequence>\n",
    "      <xs:element name=\"title\" type=\"xs:string\"/>\n",
    "    </xs:sequence>\n",
    "  </xs:complexType>\n",
    "  <xs:complexType name=\"AlbumType\">\n",
    "    <xs:complexContent>\n",
    "      <xs:extension base=\"WorkType\">\n",
    "        <xs:sequence>\n",
    "          <xs:element name=\"label\" type=\"xs:string\"/>\n",
    "        </xs:sequence>\n",
    "      </xs:extension>\n",
    "    </xs:complexContent>\n",
    " </xs:complexType>\n",
    "</xs:schema>\n",
    "\"\"\"\n",
    "\n",
    "doc = \"\"\"\n",
    "<album>\n",
    "<title>The Dark Side of the Moon</title>\n",
    "<label>Harvest, EMI</label>\n",
    "</album>\n",
    "\"\"\"\n",
    "\n",
    "isvalid(xsd, doc)\n",
    "\n",
    "doc = \"\"\"\n",
    "<album>\n",
    "<!-- The order matters -->\n",
    "<label>Harvest, EMI</label>\n",
    "<title>The Dark Side of the Moon</title>\n",
    "</album>\n",
    "\"\"\"\n",
    "\n",
    "isvalid(xsd, doc) # Warum ist dieses Dokument nicht gültig? Antwort: "
   ]
  },
  {
   "cell_type": "markdown",
   "metadata": {
    "deletable": false
   },
   "source": [
    "# Attribute Deklarieren"
   ]
  },
  {
   "cell_type": "code",
   "execution_count": null,
   "metadata": {
    "deletable": false
   },
   "outputs": [],
   "source": [
    "xsd = \"\"\"\n",
    "<xs:schema xmlns:xs=\"http://www.w3.org/2001/XMLSchema\">\n",
    "  <xs:element name=\"album\">\n",
    "    <xs:complexType>\n",
    "      <xs:attribute name=\"title\" type=\"xs:string\"/>\n",
    "    </xs:complexType>\n",
    "  </xs:element>\n",
    "</xs:schema>\n",
    "\"\"\"\n",
    "\n",
    "doc = \"\"\"\n",
    "<album title=\"The Dark Side of the Moon\"/>\n",
    "\"\"\"\n",
    "\n",
    "isvalid(xsd, doc)"
   ]
  },
  {
   "cell_type": "code",
   "execution_count": null,
   "metadata": {
    "deletable": false
   },
   "outputs": [],
   "source": [
    "xsd = \"\"\"\n",
    "<xs:schema xmlns:xs=\"http://www.w3.org/2001/XMLSchema\">\n",
    "  <xs:element name=\"album\">\n",
    "    <xs:complexType>\n",
    "      <xs:simpleContent>\n",
    "        <xs:extension base=\"xs:string\">\n",
    "          <xs:attribute name=\"year\" type=\"xs:gYear\" />\n",
    "        </xs:extension>\n",
    "      </xs:simpleContent>\n",
    "    </xs:complexType>\n",
    "  </xs:element>\n",
    "</xs:schema>\n",
    "\"\"\"\n",
    "\n",
    "doc = \"\"\"\n",
    "<album year=\"1973\">The Dark Side of the Moon</album>\n",
    "\"\"\"\n",
    "\n",
    "isvalid(xsd, doc)"
   ]
  },
  {
   "cell_type": "markdown",
   "metadata": {
    "deletable": false
   },
   "source": [
    "# Weitere Eigenschaften"
   ]
  },
  {
   "cell_type": "code",
   "execution_count": null,
   "metadata": {
    "deletable": false
   },
   "outputs": [],
   "source": [
    "xsd = \"\"\"\n",
    "<xs:schema xmlns:xs=\"http://www.w3.org/2001/XMLSchema\">\n",
    "  <xs:element name=\"album\">\n",
    "    <xs:complexType>\n",
    "      <xs:sequence>\n",
    "        <xs:element name=\"title\" type=\"xs:string\" maxOccurs=\"2\"/>\n",
    "        <xs:element name=\"label\" type=\"xs:string\"/>\n",
    "      </xs:sequence>\n",
    "    </xs:complexType>\n",
    "  </xs:element>\n",
    "</xs:schema>\n",
    "\"\"\"\n",
    "\n",
    "doc = \"\"\"\n",
    "<album>\n",
    "<title>The Dark Side of the Moon</title>\n",
    "<title>The Bright Side of the Moon</title>\n",
    "<label>Harvest, EMI</label>\n",
    "</album>\n",
    "\"\"\"\n",
    "\n",
    "isvalid(xsd, doc) # Warum ist dieses Dokument gültig? Antwort: "
   ]
  },
  {
   "cell_type": "code",
   "execution_count": null,
   "metadata": {
    "deletable": false
   },
   "outputs": [],
   "source": [
    "xsd = \"\"\"\n",
    "<xs:schema xmlns:xs=\"http://www.w3.org/2001/XMLSchema\">\n",
    "  <xs:element name=\"album\">\n",
    "    <xs:complexType>\n",
    "      <xs:all>\n",
    "        <xs:element name=\"title\" type=\"xs:string\"/>\n",
    "        <xs:element name=\"label\" type=\"xs:string\"/>\n",
    "      </xs:all>\n",
    "    </xs:complexType>\n",
    "  </xs:element>\n",
    "</xs:schema>\n",
    "\"\"\"\n",
    "\n",
    "doc = \"\"\"\n",
    "<album>\n",
    "<title>The Dark Side of the Moon</title>\n",
    "<label>Harvest, EMI</label>\n",
    "</album>\n",
    "\"\"\"\n",
    "\n",
    "isvalid(xsd, doc)\n",
    "\n",
    "doc = \"\"\"\n",
    "<album>\n",
    "<label>Harvest, EMI</label>\n",
    "<title>The Dark Side of the Moon</title>\n",
    "</album>\n",
    "\"\"\"\n",
    "\n",
    "isvalid(xsd, doc) # Warum ist dieses Dokument gültig? Antwort: "
   ]
  },
  {
   "cell_type": "code",
   "execution_count": null,
   "metadata": {
    "deletable": false
   },
   "outputs": [],
   "source": [
    "xsd = \"\"\"\n",
    "<xs:schema xmlns:xs=\"http://www.w3.org/2001/XMLSchema\">\n",
    "  <xs:element name=\"album\">\n",
    "    <xs:complexType>\n",
    "      <xs:choice>\n",
    "        <xs:element name=\"title\" type=\"xs:string\"/>\n",
    "        <xs:element name=\"label\" type=\"xs:string\"/>\n",
    "      </xs:choice>\n",
    "    </xs:complexType>\n",
    "  </xs:element>\n",
    "</xs:schema>\n",
    "\"\"\"\n",
    "\n",
    "doc = \"\"\"\n",
    "<album>\n",
    "<title>The Dark Side of the Moon</title>\n",
    "</album>\n",
    "\"\"\"\n",
    "\n",
    "isvalid(xsd, doc)\n",
    "\n",
    "doc = \"\"\"\n",
    "<album>\n",
    "<label>Harvest, EMI</label>\n",
    "</album>\n",
    "\"\"\"\n",
    "\n",
    "isvalid(xsd, doc)\n",
    "\n",
    "doc = \"\"\"\n",
    "<album>\n",
    "<title>The Dark Side of the Moon</title>\n",
    "<label>Harvest, EMI</label>\n",
    "</album>\n",
    "\"\"\"\n",
    "\n",
    "isvalid(xsd, doc) # Warum ist dieses Dokument nicht gültig? Antwort: "
   ]
  },
  {
   "cell_type": "code",
   "execution_count": null,
   "metadata": {
    "deletable": false
   },
   "outputs": [],
   "source": [
    "xsd = \"\"\"\n",
    "<xs:schema xmlns:xs=\"http://www.w3.org/2001/XMLSchema\">\n",
    "  <xs:element name=\"released\">\n",
    "    <xs:simpleType>\n",
    "      <xs:restriction base=\"xs:integer\">\n",
    "        <xs:minInclusive value=\"1950\"/>\n",
    "        <xs:maxInclusive value=\"2018\"/>\n",
    "      </xs:restriction>\n",
    "    </xs:simpleType>\n",
    "  </xs:element>\n",
    "</xs:schema>\n",
    "\"\"\"\n",
    "\n",
    "doc = \"\"\"\n",
    "<released>1973</released>\n",
    "\"\"\"\n",
    "\n",
    "isvalid(xsd, doc)\n",
    "\n",
    "doc = \"\"\"\n",
    "<released>2020</released>\n",
    "\"\"\"\n",
    "\n",
    "isvalid(xsd, doc) # Warum ist dieses Dokument nicht gültig? Antwort: "
   ]
  },
  {
   "cell_type": "code",
   "execution_count": null,
   "metadata": {
    "deletable": false
   },
   "outputs": [],
   "source": [
    "xsd = \"\"\"\n",
    "<xs:schema xmlns:xs=\"http://www.w3.org/2001/XMLSchema\">\n",
    "  <xs:element name=\"author\">\n",
    "    <xs:simpleType>\n",
    "      <xs:restriction base=\"xs:string\">\n",
    "        <xs:enumeration value=\"Roger Waters\"/>\n",
    "        <xs:enumeration value=\"David Gilmour\"/>\n",
    "        <xs:enumeration value=\"Syd Barrett\"/>\n",
    "      </xs:restriction>\n",
    "    </xs:simpleType>\n",
    "  </xs:element>\n",
    "</xs:schema>\n",
    "\"\"\"\n",
    "\n",
    "doc = \"\"\"\n",
    "<author>Roger Waters</author>\n",
    "\"\"\"\n",
    "\n",
    "isvalid(xsd, doc)\n",
    "\n",
    "doc = \"\"\"\n",
    "<author>Jimmy Page</author>\n",
    "\"\"\"\n",
    "\n",
    "isvalid(xsd, doc) # Warum ist dieses Dokument nicht gültig? Antwort: "
   ]
  },
  {
   "cell_type": "code",
   "execution_count": null,
   "metadata": {
    "deletable": false
   },
   "outputs": [],
   "source": [
    "xsd = \"\"\"\n",
    "<xs:schema xmlns:xs=\"http://www.w3.org/2001/XMLSchema\">\n",
    "  <xs:element name=\"author\">\n",
    "    <xs:simpleType>\n",
    "      <xs:restriction base=\"xs:string\">\n",
    "        <xs:pattern value=\"[A-Z][a-z]+\"/>\n",
    "      </xs:restriction>\n",
    "    </xs:simpleType>\n",
    "  </xs:element>\n",
    "</xs:schema>\n",
    "\"\"\"\n",
    "\n",
    "doc = \"\"\"\n",
    "<author>Waters</author>\n",
    "\"\"\"\n",
    "\n",
    "isvalid(xsd, doc)\n",
    "\n",
    "doc = \"\"\"\n",
    "<author>gilmour</author>\n",
    "\"\"\"\n",
    "\n",
    "isvalid(xsd, doc) # Warum ist dieses Dokument nicht gültig? Antwort: "
   ]
  },
  {
   "cell_type": "code",
   "execution_count": null,
   "metadata": {
    "deletable": false
   },
   "outputs": [],
   "source": [
    "xsd = \"\"\"\n",
    "<xs:schema xmlns:xs=\"http://www.w3.org/2001/XMLSchema\" \n",
    "  targetNamespace=\"http://example.org\"\n",
    "  elementFormDefault=\"qualified\">\n",
    "  <xs:element name=\"album\">\n",
    "    <xs:complexType>\n",
    "      <xs:sequence>\n",
    "        <xs:element name=\"title\" type=\"xs:string\"/>\n",
    "        <xs:element name=\"label\" type=\"xs:string\"/>\n",
    "      </xs:sequence>\n",
    "    </xs:complexType>\n",
    "  </xs:element>\n",
    "</xs:schema>\n",
    "\"\"\"\n",
    "\n",
    "doc = \"\"\"\n",
    "<album xmlns=\"http://example.org\">\n",
    "<title>The Dark Side of the Moon</title>\n",
    "<label>Harvest, EMI</label>\n",
    "</album>\n",
    "\"\"\"\n",
    "\n",
    "isvalid(xsd, doc)"
   ]
  },
  {
   "cell_type": "markdown",
   "metadata": {
    "deletable": false
   },
   "source": [
    "Denken Sie sich nun ein eigenes XML Dokument aus und erstellen Sie dafür ein XML Schema. Überprüfen Sie das XML Dokument auf Gültigkeit."
   ]
  },
  {
   "cell_type": "code",
   "execution_count": null,
   "metadata": {
    "deletable": false
   },
   "outputs": [],
   "source": []
  }
 ],
 "metadata": {
  "kernelspec": {
   "display_name": "Python 3",
   "language": "python",
   "name": "python3"
  },
  "language_info": {
   "codemirror_mode": {
    "name": "ipython",
    "version": 3
   },
   "file_extension": ".py",
   "mimetype": "text/x-python",
   "name": "python",
   "nbconvert_exporter": "python",
   "pygments_lexer": "ipython3",
   "version": "3.6.4"
  }
 },
 "nbformat": 4,
 "nbformat_minor": 2
}
